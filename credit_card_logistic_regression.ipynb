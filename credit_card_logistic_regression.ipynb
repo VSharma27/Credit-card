{
  "nbformat": 4,
  "nbformat_minor": 0,
  "metadata": {
    "colab": {
      "name": "credit_card_logistic_regression.ipynb",
      "provenance": [],
      "collapsed_sections": [],
      "authorship_tag": "ABX9TyOd4L5mxmAdsYfpdF2s82Ow",
      "include_colab_link": true
    },
    "kernelspec": {
      "name": "python3",
      "display_name": "Python 3"
    },
    "language_info": {
      "name": "python"
    }
  },
  "cells": [
    {
      "cell_type": "markdown",
      "metadata": {
        "id": "view-in-github",
        "colab_type": "text"
      },
      "source": [
        "<a href=\"https://colab.research.google.com/github/VSharma27/Credit-card/blob/main/credit_card_logistic_regression.ipynb\" target=\"_parent\"><img src=\"https://colab.research.google.com/assets/colab-badge.svg\" alt=\"Open In Colab\"/></a>"
      ]
    },
    {
      "cell_type": "code",
      "metadata": {
        "id": "x-9bJrr_kxm6"
      },
      "source": [
        "import pandas as pd\n",
        "import numpy as np\n",
        "\n",
        "import matplotlib.pyplot as plt\n",
        "%matplotlib inline\n",
        "import seaborn as sns\n",
        "from scipy.stats import skew\n",
        "# Importing SMOTE\n",
        "from imblearn.over_sampling import SMOTE\n",
        "# Importing scikit logistic regression module\n",
        "from sklearn.linear_model import LogisticRegression# Import library\n",
        "from sklearn.model_selection import train_test_split\n",
        "# Standardization method\n",
        "from sklearn.preprocessing import StandardScaler\n",
        "# Impoting metrics\n",
        "from sklearn import metrics\n",
        "from sklearn.metrics import confusion_matrix\n",
        "from sklearn.metrics import f1_score\n",
        "from sklearn.metrics import classification_report\n",
        "# Importing libraries for cross validation\n",
        "from sklearn.model_selection import KFold\n",
        "from sklearn.model_selection import cross_val_score\n",
        "from sklearn.model_selection import GridSearchCV\n",
        "\n",
        "pd.set_option('display.max_columns', 500)"
      ],
      "execution_count": 19,
      "outputs": []
    },
    {
      "cell_type": "code",
      "metadata": {
        "colab": {
          "base_uri": "https://localhost:8080/",
          "height": 223
        },
        "id": "P_0yhbqHyCui",
        "outputId": "697779cd-5522-4436-985c-7c79b518ee6a"
      },
      "source": [
        "# Reading the dataset\n",
        "df = pd.read_csv('/content/creditcard.csv')\n",
        "df.head()"
      ],
      "execution_count": 3,
      "outputs": [
        {
          "output_type": "execute_result",
          "data": {
            "text/html": [
              "<div>\n",
              "<style scoped>\n",
              "    .dataframe tbody tr th:only-of-type {\n",
              "        vertical-align: middle;\n",
              "    }\n",
              "\n",
              "    .dataframe tbody tr th {\n",
              "        vertical-align: top;\n",
              "    }\n",
              "\n",
              "    .dataframe thead th {\n",
              "        text-align: right;\n",
              "    }\n",
              "</style>\n",
              "<table border=\"1\" class=\"dataframe\">\n",
              "  <thead>\n",
              "    <tr style=\"text-align: right;\">\n",
              "      <th></th>\n",
              "      <th>Time</th>\n",
              "      <th>V1</th>\n",
              "      <th>V2</th>\n",
              "      <th>V3</th>\n",
              "      <th>V4</th>\n",
              "      <th>V5</th>\n",
              "      <th>V6</th>\n",
              "      <th>V7</th>\n",
              "      <th>V8</th>\n",
              "      <th>V9</th>\n",
              "      <th>V10</th>\n",
              "      <th>V11</th>\n",
              "      <th>V12</th>\n",
              "      <th>V13</th>\n",
              "      <th>V14</th>\n",
              "      <th>V15</th>\n",
              "      <th>V16</th>\n",
              "      <th>V17</th>\n",
              "      <th>V18</th>\n",
              "      <th>V19</th>\n",
              "      <th>V20</th>\n",
              "      <th>V21</th>\n",
              "      <th>V22</th>\n",
              "      <th>V23</th>\n",
              "      <th>V24</th>\n",
              "      <th>V25</th>\n",
              "      <th>V26</th>\n",
              "      <th>V27</th>\n",
              "      <th>V28</th>\n",
              "      <th>Amount</th>\n",
              "      <th>Class</th>\n",
              "    </tr>\n",
              "  </thead>\n",
              "  <tbody>\n",
              "    <tr>\n",
              "      <th>0</th>\n",
              "      <td>0.0</td>\n",
              "      <td>-1.359807</td>\n",
              "      <td>-0.072781</td>\n",
              "      <td>2.536347</td>\n",
              "      <td>1.378155</td>\n",
              "      <td>-0.338321</td>\n",
              "      <td>0.462388</td>\n",
              "      <td>0.239599</td>\n",
              "      <td>0.098698</td>\n",
              "      <td>0.363787</td>\n",
              "      <td>0.090794</td>\n",
              "      <td>-0.551600</td>\n",
              "      <td>-0.617801</td>\n",
              "      <td>-0.991390</td>\n",
              "      <td>-0.311169</td>\n",
              "      <td>1.468177</td>\n",
              "      <td>-0.470401</td>\n",
              "      <td>0.207971</td>\n",
              "      <td>0.025791</td>\n",
              "      <td>0.403993</td>\n",
              "      <td>0.251412</td>\n",
              "      <td>-0.018307</td>\n",
              "      <td>0.277838</td>\n",
              "      <td>-0.110474</td>\n",
              "      <td>0.066928</td>\n",
              "      <td>0.128539</td>\n",
              "      <td>-0.189115</td>\n",
              "      <td>0.133558</td>\n",
              "      <td>-0.021053</td>\n",
              "      <td>149.62</td>\n",
              "      <td>0</td>\n",
              "    </tr>\n",
              "    <tr>\n",
              "      <th>1</th>\n",
              "      <td>0.0</td>\n",
              "      <td>1.191857</td>\n",
              "      <td>0.266151</td>\n",
              "      <td>0.166480</td>\n",
              "      <td>0.448154</td>\n",
              "      <td>0.060018</td>\n",
              "      <td>-0.082361</td>\n",
              "      <td>-0.078803</td>\n",
              "      <td>0.085102</td>\n",
              "      <td>-0.255425</td>\n",
              "      <td>-0.166974</td>\n",
              "      <td>1.612727</td>\n",
              "      <td>1.065235</td>\n",
              "      <td>0.489095</td>\n",
              "      <td>-0.143772</td>\n",
              "      <td>0.635558</td>\n",
              "      <td>0.463917</td>\n",
              "      <td>-0.114805</td>\n",
              "      <td>-0.183361</td>\n",
              "      <td>-0.145783</td>\n",
              "      <td>-0.069083</td>\n",
              "      <td>-0.225775</td>\n",
              "      <td>-0.638672</td>\n",
              "      <td>0.101288</td>\n",
              "      <td>-0.339846</td>\n",
              "      <td>0.167170</td>\n",
              "      <td>0.125895</td>\n",
              "      <td>-0.008983</td>\n",
              "      <td>0.014724</td>\n",
              "      <td>2.69</td>\n",
              "      <td>0</td>\n",
              "    </tr>\n",
              "    <tr>\n",
              "      <th>2</th>\n",
              "      <td>1.0</td>\n",
              "      <td>-1.358354</td>\n",
              "      <td>-1.340163</td>\n",
              "      <td>1.773209</td>\n",
              "      <td>0.379780</td>\n",
              "      <td>-0.503198</td>\n",
              "      <td>1.800499</td>\n",
              "      <td>0.791461</td>\n",
              "      <td>0.247676</td>\n",
              "      <td>-1.514654</td>\n",
              "      <td>0.207643</td>\n",
              "      <td>0.624501</td>\n",
              "      <td>0.066084</td>\n",
              "      <td>0.717293</td>\n",
              "      <td>-0.165946</td>\n",
              "      <td>2.345865</td>\n",
              "      <td>-2.890083</td>\n",
              "      <td>1.109969</td>\n",
              "      <td>-0.121359</td>\n",
              "      <td>-2.261857</td>\n",
              "      <td>0.524980</td>\n",
              "      <td>0.247998</td>\n",
              "      <td>0.771679</td>\n",
              "      <td>0.909412</td>\n",
              "      <td>-0.689281</td>\n",
              "      <td>-0.327642</td>\n",
              "      <td>-0.139097</td>\n",
              "      <td>-0.055353</td>\n",
              "      <td>-0.059752</td>\n",
              "      <td>378.66</td>\n",
              "      <td>0</td>\n",
              "    </tr>\n",
              "    <tr>\n",
              "      <th>3</th>\n",
              "      <td>1.0</td>\n",
              "      <td>-0.966272</td>\n",
              "      <td>-0.185226</td>\n",
              "      <td>1.792993</td>\n",
              "      <td>-0.863291</td>\n",
              "      <td>-0.010309</td>\n",
              "      <td>1.247203</td>\n",
              "      <td>0.237609</td>\n",
              "      <td>0.377436</td>\n",
              "      <td>-1.387024</td>\n",
              "      <td>-0.054952</td>\n",
              "      <td>-0.226487</td>\n",
              "      <td>0.178228</td>\n",
              "      <td>0.507757</td>\n",
              "      <td>-0.287924</td>\n",
              "      <td>-0.631418</td>\n",
              "      <td>-1.059647</td>\n",
              "      <td>-0.684093</td>\n",
              "      <td>1.965775</td>\n",
              "      <td>-1.232622</td>\n",
              "      <td>-0.208038</td>\n",
              "      <td>-0.108300</td>\n",
              "      <td>0.005274</td>\n",
              "      <td>-0.190321</td>\n",
              "      <td>-1.175575</td>\n",
              "      <td>0.647376</td>\n",
              "      <td>-0.221929</td>\n",
              "      <td>0.062723</td>\n",
              "      <td>0.061458</td>\n",
              "      <td>123.50</td>\n",
              "      <td>0</td>\n",
              "    </tr>\n",
              "    <tr>\n",
              "      <th>4</th>\n",
              "      <td>2.0</td>\n",
              "      <td>-1.158233</td>\n",
              "      <td>0.877737</td>\n",
              "      <td>1.548718</td>\n",
              "      <td>0.403034</td>\n",
              "      <td>-0.407193</td>\n",
              "      <td>0.095921</td>\n",
              "      <td>0.592941</td>\n",
              "      <td>-0.270533</td>\n",
              "      <td>0.817739</td>\n",
              "      <td>0.753074</td>\n",
              "      <td>-0.822843</td>\n",
              "      <td>0.538196</td>\n",
              "      <td>1.345852</td>\n",
              "      <td>-1.119670</td>\n",
              "      <td>0.175121</td>\n",
              "      <td>-0.451449</td>\n",
              "      <td>-0.237033</td>\n",
              "      <td>-0.038195</td>\n",
              "      <td>0.803487</td>\n",
              "      <td>0.408542</td>\n",
              "      <td>-0.009431</td>\n",
              "      <td>0.798278</td>\n",
              "      <td>-0.137458</td>\n",
              "      <td>0.141267</td>\n",
              "      <td>-0.206010</td>\n",
              "      <td>0.502292</td>\n",
              "      <td>0.219422</td>\n",
              "      <td>0.215153</td>\n",
              "      <td>69.99</td>\n",
              "      <td>0</td>\n",
              "    </tr>\n",
              "  </tbody>\n",
              "</table>\n",
              "</div>"
            ],
            "text/plain": [
              "   Time        V1        V2        V3        V4        V5        V6        V7  \\\n",
              "0   0.0 -1.359807 -0.072781  2.536347  1.378155 -0.338321  0.462388  0.239599   \n",
              "1   0.0  1.191857  0.266151  0.166480  0.448154  0.060018 -0.082361 -0.078803   \n",
              "2   1.0 -1.358354 -1.340163  1.773209  0.379780 -0.503198  1.800499  0.791461   \n",
              "3   1.0 -0.966272 -0.185226  1.792993 -0.863291 -0.010309  1.247203  0.237609   \n",
              "4   2.0 -1.158233  0.877737  1.548718  0.403034 -0.407193  0.095921  0.592941   \n",
              "\n",
              "         V8        V9       V10       V11       V12       V13       V14  \\\n",
              "0  0.098698  0.363787  0.090794 -0.551600 -0.617801 -0.991390 -0.311169   \n",
              "1  0.085102 -0.255425 -0.166974  1.612727  1.065235  0.489095 -0.143772   \n",
              "2  0.247676 -1.514654  0.207643  0.624501  0.066084  0.717293 -0.165946   \n",
              "3  0.377436 -1.387024 -0.054952 -0.226487  0.178228  0.507757 -0.287924   \n",
              "4 -0.270533  0.817739  0.753074 -0.822843  0.538196  1.345852 -1.119670   \n",
              "\n",
              "        V15       V16       V17       V18       V19       V20       V21  \\\n",
              "0  1.468177 -0.470401  0.207971  0.025791  0.403993  0.251412 -0.018307   \n",
              "1  0.635558  0.463917 -0.114805 -0.183361 -0.145783 -0.069083 -0.225775   \n",
              "2  2.345865 -2.890083  1.109969 -0.121359 -2.261857  0.524980  0.247998   \n",
              "3 -0.631418 -1.059647 -0.684093  1.965775 -1.232622 -0.208038 -0.108300   \n",
              "4  0.175121 -0.451449 -0.237033 -0.038195  0.803487  0.408542 -0.009431   \n",
              "\n",
              "        V22       V23       V24       V25       V26       V27       V28  \\\n",
              "0  0.277838 -0.110474  0.066928  0.128539 -0.189115  0.133558 -0.021053   \n",
              "1 -0.638672  0.101288 -0.339846  0.167170  0.125895 -0.008983  0.014724   \n",
              "2  0.771679  0.909412 -0.689281 -0.327642 -0.139097 -0.055353 -0.059752   \n",
              "3  0.005274 -0.190321 -1.175575  0.647376 -0.221929  0.062723  0.061458   \n",
              "4  0.798278 -0.137458  0.141267 -0.206010  0.502292  0.219422  0.215153   \n",
              "\n",
              "   Amount  Class  \n",
              "0  149.62      0  \n",
              "1    2.69      0  \n",
              "2  378.66      0  \n",
              "3  123.50      0  \n",
              "4   69.99      0  "
            ]
          },
          "metadata": {},
          "execution_count": 3
        }
      ]
    },
    {
      "cell_type": "code",
      "metadata": {
        "colab": {
          "base_uri": "https://localhost:8080/"
        },
        "id": "BktxaosyyOS8",
        "outputId": "0421e1b2-06f1-4626-c03b-e32508cf0644"
      },
      "source": [
        "df.shape"
      ],
      "execution_count": 4,
      "outputs": [
        {
          "output_type": "execute_result",
          "data": {
            "text/plain": [
              "(284807, 31)"
            ]
          },
          "metadata": {},
          "execution_count": 4
        }
      ]
    },
    {
      "cell_type": "code",
      "metadata": {
        "colab": {
          "base_uri": "https://localhost:8080/"
        },
        "id": "KGUjNpcQyR_a",
        "outputId": "245fa35c-5c87-479a-cc59-c9403f170797"
      },
      "source": [
        "df.isnull().any()"
      ],
      "execution_count": 5,
      "outputs": [
        {
          "output_type": "execute_result",
          "data": {
            "text/plain": [
              "Time      False\n",
              "V1        False\n",
              "V2        False\n",
              "V3        False\n",
              "V4        False\n",
              "V5        False\n",
              "V6        False\n",
              "V7        False\n",
              "V8        False\n",
              "V9        False\n",
              "V10       False\n",
              "V11       False\n",
              "V12       False\n",
              "V13       False\n",
              "V14       False\n",
              "V15       False\n",
              "V16       False\n",
              "V17       False\n",
              "V18       False\n",
              "V19       False\n",
              "V20       False\n",
              "V21       False\n",
              "V22       False\n",
              "V23       False\n",
              "V24       False\n",
              "V25       False\n",
              "V26       False\n",
              "V27       False\n",
              "V28       False\n",
              "Amount    False\n",
              "Class     False\n",
              "dtype: bool"
            ]
          },
          "metadata": {},
          "execution_count": 5
        }
      ]
    },
    {
      "cell_type": "code",
      "metadata": {
        "colab": {
          "base_uri": "https://localhost:8080/"
        },
        "id": "2TCAZEgnyTSz",
        "outputId": "e825b707-2d5b-4919-c851-b52a24db914b"
      },
      "source": [
        "df.info()"
      ],
      "execution_count": 6,
      "outputs": [
        {
          "output_type": "stream",
          "name": "stdout",
          "text": [
            "<class 'pandas.core.frame.DataFrame'>\n",
            "RangeIndex: 284807 entries, 0 to 284806\n",
            "Data columns (total 31 columns):\n",
            " #   Column  Non-Null Count   Dtype  \n",
            "---  ------  --------------   -----  \n",
            " 0   Time    284807 non-null  float64\n",
            " 1   V1      284807 non-null  float64\n",
            " 2   V2      284807 non-null  float64\n",
            " 3   V3      284807 non-null  float64\n",
            " 4   V4      284807 non-null  float64\n",
            " 5   V5      284807 non-null  float64\n",
            " 6   V6      284807 non-null  float64\n",
            " 7   V7      284807 non-null  float64\n",
            " 8   V8      284807 non-null  float64\n",
            " 9   V9      284807 non-null  float64\n",
            " 10  V10     284807 non-null  float64\n",
            " 11  V11     284807 non-null  float64\n",
            " 12  V12     284807 non-null  float64\n",
            " 13  V13     284807 non-null  float64\n",
            " 14  V14     284807 non-null  float64\n",
            " 15  V15     284807 non-null  float64\n",
            " 16  V16     284807 non-null  float64\n",
            " 17  V17     284807 non-null  float64\n",
            " 18  V18     284807 non-null  float64\n",
            " 19  V19     284807 non-null  float64\n",
            " 20  V20     284807 non-null  float64\n",
            " 21  V21     284807 non-null  float64\n",
            " 22  V22     284807 non-null  float64\n",
            " 23  V23     284807 non-null  float64\n",
            " 24  V24     284807 non-null  float64\n",
            " 25  V25     284807 non-null  float64\n",
            " 26  V26     284807 non-null  float64\n",
            " 27  V27     284807 non-null  float64\n",
            " 28  V28     284807 non-null  float64\n",
            " 29  Amount  284807 non-null  float64\n",
            " 30  Class   284807 non-null  int64  \n",
            "dtypes: float64(30), int64(1)\n",
            "memory usage: 67.4 MB\n"
          ]
        }
      ]
    },
    {
      "cell_type": "code",
      "metadata": {
        "colab": {
          "base_uri": "https://localhost:8080/",
          "height": 315
        },
        "id": "q84h-zIQya7q",
        "outputId": "c711f6af-c544-4b6b-c2c3-0b354261691c"
      },
      "source": [
        "df.describe()"
      ],
      "execution_count": 7,
      "outputs": [
        {
          "output_type": "execute_result",
          "data": {
            "text/html": [
              "<div>\n",
              "<style scoped>\n",
              "    .dataframe tbody tr th:only-of-type {\n",
              "        vertical-align: middle;\n",
              "    }\n",
              "\n",
              "    .dataframe tbody tr th {\n",
              "        vertical-align: top;\n",
              "    }\n",
              "\n",
              "    .dataframe thead th {\n",
              "        text-align: right;\n",
              "    }\n",
              "</style>\n",
              "<table border=\"1\" class=\"dataframe\">\n",
              "  <thead>\n",
              "    <tr style=\"text-align: right;\">\n",
              "      <th></th>\n",
              "      <th>Time</th>\n",
              "      <th>V1</th>\n",
              "      <th>V2</th>\n",
              "      <th>V3</th>\n",
              "      <th>V4</th>\n",
              "      <th>V5</th>\n",
              "      <th>V6</th>\n",
              "      <th>V7</th>\n",
              "      <th>V8</th>\n",
              "      <th>V9</th>\n",
              "      <th>V10</th>\n",
              "      <th>V11</th>\n",
              "      <th>V12</th>\n",
              "      <th>V13</th>\n",
              "      <th>V14</th>\n",
              "      <th>V15</th>\n",
              "      <th>V16</th>\n",
              "      <th>V17</th>\n",
              "      <th>V18</th>\n",
              "      <th>V19</th>\n",
              "      <th>V20</th>\n",
              "      <th>V21</th>\n",
              "      <th>V22</th>\n",
              "      <th>V23</th>\n",
              "      <th>V24</th>\n",
              "      <th>V25</th>\n",
              "      <th>V26</th>\n",
              "      <th>V27</th>\n",
              "      <th>V28</th>\n",
              "      <th>Amount</th>\n",
              "      <th>Class</th>\n",
              "    </tr>\n",
              "  </thead>\n",
              "  <tbody>\n",
              "    <tr>\n",
              "      <th>count</th>\n",
              "      <td>284807.000000</td>\n",
              "      <td>2.848070e+05</td>\n",
              "      <td>2.848070e+05</td>\n",
              "      <td>2.848070e+05</td>\n",
              "      <td>2.848070e+05</td>\n",
              "      <td>2.848070e+05</td>\n",
              "      <td>2.848070e+05</td>\n",
              "      <td>2.848070e+05</td>\n",
              "      <td>2.848070e+05</td>\n",
              "      <td>2.848070e+05</td>\n",
              "      <td>2.848070e+05</td>\n",
              "      <td>2.848070e+05</td>\n",
              "      <td>2.848070e+05</td>\n",
              "      <td>2.848070e+05</td>\n",
              "      <td>2.848070e+05</td>\n",
              "      <td>2.848070e+05</td>\n",
              "      <td>2.848070e+05</td>\n",
              "      <td>2.848070e+05</td>\n",
              "      <td>2.848070e+05</td>\n",
              "      <td>2.848070e+05</td>\n",
              "      <td>2.848070e+05</td>\n",
              "      <td>2.848070e+05</td>\n",
              "      <td>2.848070e+05</td>\n",
              "      <td>2.848070e+05</td>\n",
              "      <td>2.848070e+05</td>\n",
              "      <td>2.848070e+05</td>\n",
              "      <td>2.848070e+05</td>\n",
              "      <td>2.848070e+05</td>\n",
              "      <td>2.848070e+05</td>\n",
              "      <td>284807.000000</td>\n",
              "      <td>284807.000000</td>\n",
              "    </tr>\n",
              "    <tr>\n",
              "      <th>mean</th>\n",
              "      <td>94813.859575</td>\n",
              "      <td>3.919560e-15</td>\n",
              "      <td>5.688174e-16</td>\n",
              "      <td>-8.769071e-15</td>\n",
              "      <td>2.782312e-15</td>\n",
              "      <td>-1.552563e-15</td>\n",
              "      <td>2.010663e-15</td>\n",
              "      <td>-1.694249e-15</td>\n",
              "      <td>-1.927028e-16</td>\n",
              "      <td>-3.137024e-15</td>\n",
              "      <td>1.768627e-15</td>\n",
              "      <td>9.170318e-16</td>\n",
              "      <td>-1.810658e-15</td>\n",
              "      <td>1.693438e-15</td>\n",
              "      <td>1.479045e-15</td>\n",
              "      <td>3.482336e-15</td>\n",
              "      <td>1.392007e-15</td>\n",
              "      <td>-7.528491e-16</td>\n",
              "      <td>4.328772e-16</td>\n",
              "      <td>9.049732e-16</td>\n",
              "      <td>5.085503e-16</td>\n",
              "      <td>1.537294e-16</td>\n",
              "      <td>7.959909e-16</td>\n",
              "      <td>5.367590e-16</td>\n",
              "      <td>4.458112e-15</td>\n",
              "      <td>1.453003e-15</td>\n",
              "      <td>1.699104e-15</td>\n",
              "      <td>-3.660161e-16</td>\n",
              "      <td>-1.206049e-16</td>\n",
              "      <td>88.349619</td>\n",
              "      <td>0.001727</td>\n",
              "    </tr>\n",
              "    <tr>\n",
              "      <th>std</th>\n",
              "      <td>47488.145955</td>\n",
              "      <td>1.958696e+00</td>\n",
              "      <td>1.651309e+00</td>\n",
              "      <td>1.516255e+00</td>\n",
              "      <td>1.415869e+00</td>\n",
              "      <td>1.380247e+00</td>\n",
              "      <td>1.332271e+00</td>\n",
              "      <td>1.237094e+00</td>\n",
              "      <td>1.194353e+00</td>\n",
              "      <td>1.098632e+00</td>\n",
              "      <td>1.088850e+00</td>\n",
              "      <td>1.020713e+00</td>\n",
              "      <td>9.992014e-01</td>\n",
              "      <td>9.952742e-01</td>\n",
              "      <td>9.585956e-01</td>\n",
              "      <td>9.153160e-01</td>\n",
              "      <td>8.762529e-01</td>\n",
              "      <td>8.493371e-01</td>\n",
              "      <td>8.381762e-01</td>\n",
              "      <td>8.140405e-01</td>\n",
              "      <td>7.709250e-01</td>\n",
              "      <td>7.345240e-01</td>\n",
              "      <td>7.257016e-01</td>\n",
              "      <td>6.244603e-01</td>\n",
              "      <td>6.056471e-01</td>\n",
              "      <td>5.212781e-01</td>\n",
              "      <td>4.822270e-01</td>\n",
              "      <td>4.036325e-01</td>\n",
              "      <td>3.300833e-01</td>\n",
              "      <td>250.120109</td>\n",
              "      <td>0.041527</td>\n",
              "    </tr>\n",
              "    <tr>\n",
              "      <th>min</th>\n",
              "      <td>0.000000</td>\n",
              "      <td>-5.640751e+01</td>\n",
              "      <td>-7.271573e+01</td>\n",
              "      <td>-4.832559e+01</td>\n",
              "      <td>-5.683171e+00</td>\n",
              "      <td>-1.137433e+02</td>\n",
              "      <td>-2.616051e+01</td>\n",
              "      <td>-4.355724e+01</td>\n",
              "      <td>-7.321672e+01</td>\n",
              "      <td>-1.343407e+01</td>\n",
              "      <td>-2.458826e+01</td>\n",
              "      <td>-4.797473e+00</td>\n",
              "      <td>-1.868371e+01</td>\n",
              "      <td>-5.791881e+00</td>\n",
              "      <td>-1.921433e+01</td>\n",
              "      <td>-4.498945e+00</td>\n",
              "      <td>-1.412985e+01</td>\n",
              "      <td>-2.516280e+01</td>\n",
              "      <td>-9.498746e+00</td>\n",
              "      <td>-7.213527e+00</td>\n",
              "      <td>-5.449772e+01</td>\n",
              "      <td>-3.483038e+01</td>\n",
              "      <td>-1.093314e+01</td>\n",
              "      <td>-4.480774e+01</td>\n",
              "      <td>-2.836627e+00</td>\n",
              "      <td>-1.029540e+01</td>\n",
              "      <td>-2.604551e+00</td>\n",
              "      <td>-2.256568e+01</td>\n",
              "      <td>-1.543008e+01</td>\n",
              "      <td>0.000000</td>\n",
              "      <td>0.000000</td>\n",
              "    </tr>\n",
              "    <tr>\n",
              "      <th>25%</th>\n",
              "      <td>54201.500000</td>\n",
              "      <td>-9.203734e-01</td>\n",
              "      <td>-5.985499e-01</td>\n",
              "      <td>-8.903648e-01</td>\n",
              "      <td>-8.486401e-01</td>\n",
              "      <td>-6.915971e-01</td>\n",
              "      <td>-7.682956e-01</td>\n",
              "      <td>-5.540759e-01</td>\n",
              "      <td>-2.086297e-01</td>\n",
              "      <td>-6.430976e-01</td>\n",
              "      <td>-5.354257e-01</td>\n",
              "      <td>-7.624942e-01</td>\n",
              "      <td>-4.055715e-01</td>\n",
              "      <td>-6.485393e-01</td>\n",
              "      <td>-4.255740e-01</td>\n",
              "      <td>-5.828843e-01</td>\n",
              "      <td>-4.680368e-01</td>\n",
              "      <td>-4.837483e-01</td>\n",
              "      <td>-4.988498e-01</td>\n",
              "      <td>-4.562989e-01</td>\n",
              "      <td>-2.117214e-01</td>\n",
              "      <td>-2.283949e-01</td>\n",
              "      <td>-5.423504e-01</td>\n",
              "      <td>-1.618463e-01</td>\n",
              "      <td>-3.545861e-01</td>\n",
              "      <td>-3.171451e-01</td>\n",
              "      <td>-3.269839e-01</td>\n",
              "      <td>-7.083953e-02</td>\n",
              "      <td>-5.295979e-02</td>\n",
              "      <td>5.600000</td>\n",
              "      <td>0.000000</td>\n",
              "    </tr>\n",
              "    <tr>\n",
              "      <th>50%</th>\n",
              "      <td>84692.000000</td>\n",
              "      <td>1.810880e-02</td>\n",
              "      <td>6.548556e-02</td>\n",
              "      <td>1.798463e-01</td>\n",
              "      <td>-1.984653e-02</td>\n",
              "      <td>-5.433583e-02</td>\n",
              "      <td>-2.741871e-01</td>\n",
              "      <td>4.010308e-02</td>\n",
              "      <td>2.235804e-02</td>\n",
              "      <td>-5.142873e-02</td>\n",
              "      <td>-9.291738e-02</td>\n",
              "      <td>-3.275735e-02</td>\n",
              "      <td>1.400326e-01</td>\n",
              "      <td>-1.356806e-02</td>\n",
              "      <td>5.060132e-02</td>\n",
              "      <td>4.807155e-02</td>\n",
              "      <td>6.641332e-02</td>\n",
              "      <td>-6.567575e-02</td>\n",
              "      <td>-3.636312e-03</td>\n",
              "      <td>3.734823e-03</td>\n",
              "      <td>-6.248109e-02</td>\n",
              "      <td>-2.945017e-02</td>\n",
              "      <td>6.781943e-03</td>\n",
              "      <td>-1.119293e-02</td>\n",
              "      <td>4.097606e-02</td>\n",
              "      <td>1.659350e-02</td>\n",
              "      <td>-5.213911e-02</td>\n",
              "      <td>1.342146e-03</td>\n",
              "      <td>1.124383e-02</td>\n",
              "      <td>22.000000</td>\n",
              "      <td>0.000000</td>\n",
              "    </tr>\n",
              "    <tr>\n",
              "      <th>75%</th>\n",
              "      <td>139320.500000</td>\n",
              "      <td>1.315642e+00</td>\n",
              "      <td>8.037239e-01</td>\n",
              "      <td>1.027196e+00</td>\n",
              "      <td>7.433413e-01</td>\n",
              "      <td>6.119264e-01</td>\n",
              "      <td>3.985649e-01</td>\n",
              "      <td>5.704361e-01</td>\n",
              "      <td>3.273459e-01</td>\n",
              "      <td>5.971390e-01</td>\n",
              "      <td>4.539234e-01</td>\n",
              "      <td>7.395934e-01</td>\n",
              "      <td>6.182380e-01</td>\n",
              "      <td>6.625050e-01</td>\n",
              "      <td>4.931498e-01</td>\n",
              "      <td>6.488208e-01</td>\n",
              "      <td>5.232963e-01</td>\n",
              "      <td>3.996750e-01</td>\n",
              "      <td>5.008067e-01</td>\n",
              "      <td>4.589494e-01</td>\n",
              "      <td>1.330408e-01</td>\n",
              "      <td>1.863772e-01</td>\n",
              "      <td>5.285536e-01</td>\n",
              "      <td>1.476421e-01</td>\n",
              "      <td>4.395266e-01</td>\n",
              "      <td>3.507156e-01</td>\n",
              "      <td>2.409522e-01</td>\n",
              "      <td>9.104512e-02</td>\n",
              "      <td>7.827995e-02</td>\n",
              "      <td>77.165000</td>\n",
              "      <td>0.000000</td>\n",
              "    </tr>\n",
              "    <tr>\n",
              "      <th>max</th>\n",
              "      <td>172792.000000</td>\n",
              "      <td>2.454930e+00</td>\n",
              "      <td>2.205773e+01</td>\n",
              "      <td>9.382558e+00</td>\n",
              "      <td>1.687534e+01</td>\n",
              "      <td>3.480167e+01</td>\n",
              "      <td>7.330163e+01</td>\n",
              "      <td>1.205895e+02</td>\n",
              "      <td>2.000721e+01</td>\n",
              "      <td>1.559499e+01</td>\n",
              "      <td>2.374514e+01</td>\n",
              "      <td>1.201891e+01</td>\n",
              "      <td>7.848392e+00</td>\n",
              "      <td>7.126883e+00</td>\n",
              "      <td>1.052677e+01</td>\n",
              "      <td>8.877742e+00</td>\n",
              "      <td>1.731511e+01</td>\n",
              "      <td>9.253526e+00</td>\n",
              "      <td>5.041069e+00</td>\n",
              "      <td>5.591971e+00</td>\n",
              "      <td>3.942090e+01</td>\n",
              "      <td>2.720284e+01</td>\n",
              "      <td>1.050309e+01</td>\n",
              "      <td>2.252841e+01</td>\n",
              "      <td>4.584549e+00</td>\n",
              "      <td>7.519589e+00</td>\n",
              "      <td>3.517346e+00</td>\n",
              "      <td>3.161220e+01</td>\n",
              "      <td>3.384781e+01</td>\n",
              "      <td>25691.160000</td>\n",
              "      <td>1.000000</td>\n",
              "    </tr>\n",
              "  </tbody>\n",
              "</table>\n",
              "</div>"
            ],
            "text/plain": [
              "                Time            V1            V2            V3            V4  \\\n",
              "count  284807.000000  2.848070e+05  2.848070e+05  2.848070e+05  2.848070e+05   \n",
              "mean    94813.859575  3.919560e-15  5.688174e-16 -8.769071e-15  2.782312e-15   \n",
              "std     47488.145955  1.958696e+00  1.651309e+00  1.516255e+00  1.415869e+00   \n",
              "min         0.000000 -5.640751e+01 -7.271573e+01 -4.832559e+01 -5.683171e+00   \n",
              "25%     54201.500000 -9.203734e-01 -5.985499e-01 -8.903648e-01 -8.486401e-01   \n",
              "50%     84692.000000  1.810880e-02  6.548556e-02  1.798463e-01 -1.984653e-02   \n",
              "75%    139320.500000  1.315642e+00  8.037239e-01  1.027196e+00  7.433413e-01   \n",
              "max    172792.000000  2.454930e+00  2.205773e+01  9.382558e+00  1.687534e+01   \n",
              "\n",
              "                 V5            V6            V7            V8            V9  \\\n",
              "count  2.848070e+05  2.848070e+05  2.848070e+05  2.848070e+05  2.848070e+05   \n",
              "mean  -1.552563e-15  2.010663e-15 -1.694249e-15 -1.927028e-16 -3.137024e-15   \n",
              "std    1.380247e+00  1.332271e+00  1.237094e+00  1.194353e+00  1.098632e+00   \n",
              "min   -1.137433e+02 -2.616051e+01 -4.355724e+01 -7.321672e+01 -1.343407e+01   \n",
              "25%   -6.915971e-01 -7.682956e-01 -5.540759e-01 -2.086297e-01 -6.430976e-01   \n",
              "50%   -5.433583e-02 -2.741871e-01  4.010308e-02  2.235804e-02 -5.142873e-02   \n",
              "75%    6.119264e-01  3.985649e-01  5.704361e-01  3.273459e-01  5.971390e-01   \n",
              "max    3.480167e+01  7.330163e+01  1.205895e+02  2.000721e+01  1.559499e+01   \n",
              "\n",
              "                V10           V11           V12           V13           V14  \\\n",
              "count  2.848070e+05  2.848070e+05  2.848070e+05  2.848070e+05  2.848070e+05   \n",
              "mean   1.768627e-15  9.170318e-16 -1.810658e-15  1.693438e-15  1.479045e-15   \n",
              "std    1.088850e+00  1.020713e+00  9.992014e-01  9.952742e-01  9.585956e-01   \n",
              "min   -2.458826e+01 -4.797473e+00 -1.868371e+01 -5.791881e+00 -1.921433e+01   \n",
              "25%   -5.354257e-01 -7.624942e-01 -4.055715e-01 -6.485393e-01 -4.255740e-01   \n",
              "50%   -9.291738e-02 -3.275735e-02  1.400326e-01 -1.356806e-02  5.060132e-02   \n",
              "75%    4.539234e-01  7.395934e-01  6.182380e-01  6.625050e-01  4.931498e-01   \n",
              "max    2.374514e+01  1.201891e+01  7.848392e+00  7.126883e+00  1.052677e+01   \n",
              "\n",
              "                V15           V16           V17           V18           V19  \\\n",
              "count  2.848070e+05  2.848070e+05  2.848070e+05  2.848070e+05  2.848070e+05   \n",
              "mean   3.482336e-15  1.392007e-15 -7.528491e-16  4.328772e-16  9.049732e-16   \n",
              "std    9.153160e-01  8.762529e-01  8.493371e-01  8.381762e-01  8.140405e-01   \n",
              "min   -4.498945e+00 -1.412985e+01 -2.516280e+01 -9.498746e+00 -7.213527e+00   \n",
              "25%   -5.828843e-01 -4.680368e-01 -4.837483e-01 -4.988498e-01 -4.562989e-01   \n",
              "50%    4.807155e-02  6.641332e-02 -6.567575e-02 -3.636312e-03  3.734823e-03   \n",
              "75%    6.488208e-01  5.232963e-01  3.996750e-01  5.008067e-01  4.589494e-01   \n",
              "max    8.877742e+00  1.731511e+01  9.253526e+00  5.041069e+00  5.591971e+00   \n",
              "\n",
              "                V20           V21           V22           V23           V24  \\\n",
              "count  2.848070e+05  2.848070e+05  2.848070e+05  2.848070e+05  2.848070e+05   \n",
              "mean   5.085503e-16  1.537294e-16  7.959909e-16  5.367590e-16  4.458112e-15   \n",
              "std    7.709250e-01  7.345240e-01  7.257016e-01  6.244603e-01  6.056471e-01   \n",
              "min   -5.449772e+01 -3.483038e+01 -1.093314e+01 -4.480774e+01 -2.836627e+00   \n",
              "25%   -2.117214e-01 -2.283949e-01 -5.423504e-01 -1.618463e-01 -3.545861e-01   \n",
              "50%   -6.248109e-02 -2.945017e-02  6.781943e-03 -1.119293e-02  4.097606e-02   \n",
              "75%    1.330408e-01  1.863772e-01  5.285536e-01  1.476421e-01  4.395266e-01   \n",
              "max    3.942090e+01  2.720284e+01  1.050309e+01  2.252841e+01  4.584549e+00   \n",
              "\n",
              "                V25           V26           V27           V28         Amount  \\\n",
              "count  2.848070e+05  2.848070e+05  2.848070e+05  2.848070e+05  284807.000000   \n",
              "mean   1.453003e-15  1.699104e-15 -3.660161e-16 -1.206049e-16      88.349619   \n",
              "std    5.212781e-01  4.822270e-01  4.036325e-01  3.300833e-01     250.120109   \n",
              "min   -1.029540e+01 -2.604551e+00 -2.256568e+01 -1.543008e+01       0.000000   \n",
              "25%   -3.171451e-01 -3.269839e-01 -7.083953e-02 -5.295979e-02       5.600000   \n",
              "50%    1.659350e-02 -5.213911e-02  1.342146e-03  1.124383e-02      22.000000   \n",
              "75%    3.507156e-01  2.409522e-01  9.104512e-02  7.827995e-02      77.165000   \n",
              "max    7.519589e+00  3.517346e+00  3.161220e+01  3.384781e+01   25691.160000   \n",
              "\n",
              "               Class  \n",
              "count  284807.000000  \n",
              "mean        0.001727  \n",
              "std         0.041527  \n",
              "min         0.000000  \n",
              "25%         0.000000  \n",
              "50%         0.000000  \n",
              "75%         0.000000  \n",
              "max         1.000000  "
            ]
          },
          "metadata": {},
          "execution_count": 7
        }
      ]
    },
    {
      "cell_type": "code",
      "metadata": {
        "colab": {
          "base_uri": "https://localhost:8080/",
          "height": 1000
        },
        "id": "cj-tUbm_yrD8",
        "outputId": "bffb715d-6df7-4d29-c563-918f521496b9"
      },
      "source": [
        "# Cheking percent of missing values in columns\n",
        "df_missing_columns = (round(((df.isnull().sum()/len(df.index))*100),2).to_frame('null')).sort_values('null', ascending=False)\n",
        "df_missing_columns"
      ],
      "execution_count": 8,
      "outputs": [
        {
          "output_type": "execute_result",
          "data": {
            "text/html": [
              "<div>\n",
              "<style scoped>\n",
              "    .dataframe tbody tr th:only-of-type {\n",
              "        vertical-align: middle;\n",
              "    }\n",
              "\n",
              "    .dataframe tbody tr th {\n",
              "        vertical-align: top;\n",
              "    }\n",
              "\n",
              "    .dataframe thead th {\n",
              "        text-align: right;\n",
              "    }\n",
              "</style>\n",
              "<table border=\"1\" class=\"dataframe\">\n",
              "  <thead>\n",
              "    <tr style=\"text-align: right;\">\n",
              "      <th></th>\n",
              "      <th>null</th>\n",
              "    </tr>\n",
              "  </thead>\n",
              "  <tbody>\n",
              "    <tr>\n",
              "      <th>Time</th>\n",
              "      <td>0.0</td>\n",
              "    </tr>\n",
              "    <tr>\n",
              "      <th>V16</th>\n",
              "      <td>0.0</td>\n",
              "    </tr>\n",
              "    <tr>\n",
              "      <th>Amount</th>\n",
              "      <td>0.0</td>\n",
              "    </tr>\n",
              "    <tr>\n",
              "      <th>V28</th>\n",
              "      <td>0.0</td>\n",
              "    </tr>\n",
              "    <tr>\n",
              "      <th>V27</th>\n",
              "      <td>0.0</td>\n",
              "    </tr>\n",
              "    <tr>\n",
              "      <th>V26</th>\n",
              "      <td>0.0</td>\n",
              "    </tr>\n",
              "    <tr>\n",
              "      <th>V25</th>\n",
              "      <td>0.0</td>\n",
              "    </tr>\n",
              "    <tr>\n",
              "      <th>V24</th>\n",
              "      <td>0.0</td>\n",
              "    </tr>\n",
              "    <tr>\n",
              "      <th>V23</th>\n",
              "      <td>0.0</td>\n",
              "    </tr>\n",
              "    <tr>\n",
              "      <th>V22</th>\n",
              "      <td>0.0</td>\n",
              "    </tr>\n",
              "    <tr>\n",
              "      <th>V21</th>\n",
              "      <td>0.0</td>\n",
              "    </tr>\n",
              "    <tr>\n",
              "      <th>V20</th>\n",
              "      <td>0.0</td>\n",
              "    </tr>\n",
              "    <tr>\n",
              "      <th>V19</th>\n",
              "      <td>0.0</td>\n",
              "    </tr>\n",
              "    <tr>\n",
              "      <th>V18</th>\n",
              "      <td>0.0</td>\n",
              "    </tr>\n",
              "    <tr>\n",
              "      <th>V17</th>\n",
              "      <td>0.0</td>\n",
              "    </tr>\n",
              "    <tr>\n",
              "      <th>V15</th>\n",
              "      <td>0.0</td>\n",
              "    </tr>\n",
              "    <tr>\n",
              "      <th>V1</th>\n",
              "      <td>0.0</td>\n",
              "    </tr>\n",
              "    <tr>\n",
              "      <th>V14</th>\n",
              "      <td>0.0</td>\n",
              "    </tr>\n",
              "    <tr>\n",
              "      <th>V13</th>\n",
              "      <td>0.0</td>\n",
              "    </tr>\n",
              "    <tr>\n",
              "      <th>V12</th>\n",
              "      <td>0.0</td>\n",
              "    </tr>\n",
              "    <tr>\n",
              "      <th>V11</th>\n",
              "      <td>0.0</td>\n",
              "    </tr>\n",
              "    <tr>\n",
              "      <th>V10</th>\n",
              "      <td>0.0</td>\n",
              "    </tr>\n",
              "    <tr>\n",
              "      <th>V9</th>\n",
              "      <td>0.0</td>\n",
              "    </tr>\n",
              "    <tr>\n",
              "      <th>V8</th>\n",
              "      <td>0.0</td>\n",
              "    </tr>\n",
              "    <tr>\n",
              "      <th>V7</th>\n",
              "      <td>0.0</td>\n",
              "    </tr>\n",
              "    <tr>\n",
              "      <th>V6</th>\n",
              "      <td>0.0</td>\n",
              "    </tr>\n",
              "    <tr>\n",
              "      <th>V5</th>\n",
              "      <td>0.0</td>\n",
              "    </tr>\n",
              "    <tr>\n",
              "      <th>V4</th>\n",
              "      <td>0.0</td>\n",
              "    </tr>\n",
              "    <tr>\n",
              "      <th>V3</th>\n",
              "      <td>0.0</td>\n",
              "    </tr>\n",
              "    <tr>\n",
              "      <th>V2</th>\n",
              "      <td>0.0</td>\n",
              "    </tr>\n",
              "    <tr>\n",
              "      <th>Class</th>\n",
              "      <td>0.0</td>\n",
              "    </tr>\n",
              "  </tbody>\n",
              "</table>\n",
              "</div>"
            ],
            "text/plain": [
              "        null\n",
              "Time     0.0\n",
              "V16      0.0\n",
              "Amount   0.0\n",
              "V28      0.0\n",
              "V27      0.0\n",
              "V26      0.0\n",
              "V25      0.0\n",
              "V24      0.0\n",
              "V23      0.0\n",
              "V22      0.0\n",
              "V21      0.0\n",
              "V20      0.0\n",
              "V19      0.0\n",
              "V18      0.0\n",
              "V17      0.0\n",
              "V15      0.0\n",
              "V1       0.0\n",
              "V14      0.0\n",
              "V13      0.0\n",
              "V12      0.0\n",
              "V11      0.0\n",
              "V10      0.0\n",
              "V9       0.0\n",
              "V8       0.0\n",
              "V7       0.0\n",
              "V6       0.0\n",
              "V5       0.0\n",
              "V4       0.0\n",
              "V3       0.0\n",
              "V2       0.0\n",
              "Class    0.0"
            ]
          },
          "metadata": {},
          "execution_count": 8
        }
      ]
    },
    {
      "cell_type": "code",
      "metadata": {
        "colab": {
          "base_uri": "https://localhost:8080/"
        },
        "id": "d4WNFUjcys5d",
        "outputId": "b3b5731f-079a-4d38-c336-1eebc7ebefde"
      },
      "source": [
        "classes = df['Class'].value_counts()\n",
        "classes"
      ],
      "execution_count": 9,
      "outputs": [
        {
          "output_type": "execute_result",
          "data": {
            "text/plain": [
              "0    284315\n",
              "1       492\n",
              "Name: Class, dtype: int64"
            ]
          },
          "metadata": {},
          "execution_count": 9
        }
      ]
    },
    {
      "cell_type": "code",
      "metadata": {
        "colab": {
          "base_uri": "https://localhost:8080/"
        },
        "id": "cnLD1uySyugV",
        "outputId": "a1cbd7b8-fe55-4c49-cfeb-988b6912a035"
      },
      "source": [
        "normal_share = round((classes[0]/df['Class'].count()*100),2)\n",
        "normal_share"
      ],
      "execution_count": 10,
      "outputs": [
        {
          "output_type": "execute_result",
          "data": {
            "text/plain": [
              "99.83"
            ]
          },
          "metadata": {},
          "execution_count": 10
        }
      ]
    },
    {
      "cell_type": "code",
      "metadata": {
        "colab": {
          "base_uri": "https://localhost:8080/"
        },
        "id": "8KGutVhCywY0",
        "outputId": "d3f0d12a-6aa9-458f-9715-607813bd5186"
      },
      "source": [
        "fraud_share = round((classes[1]/df['Class'].count()*100),2)\n",
        "fraud_share"
      ],
      "execution_count": 11,
      "outputs": [
        {
          "output_type": "execute_result",
          "data": {
            "text/plain": [
              "0.17"
            ]
          },
          "metadata": {},
          "execution_count": 11
        }
      ]
    },
    {
      "cell_type": "code",
      "metadata": {
        "colab": {
          "base_uri": "https://localhost:8080/",
          "height": 295
        },
        "id": "d_8GiqoCyzub",
        "outputId": "88b43890-b687-4418-ea1b-9cafc4d8add0"
      },
      "source": [
        "#NEWLY ADDED CODE\n",
        "import matplotlib.pyplot as plt\n",
        "labels = [\"Genuine\", \"Fraud\"]\n",
        "count_classes = df.value_counts(df['Class'], sort= True)\n",
        "count_classes.plot(kind = \"bar\", rot = 0)\n",
        "plt.title(\"Visualization of Labels\")\n",
        "plt.ylabel(\"Count\")\n",
        "plt.xticks(range(2), labels)\n",
        "plt.show()"
      ],
      "execution_count": 12,
      "outputs": [
        {
          "output_type": "display_data",
          "data": {
            "image/png": "[encoded data removed]",
            "text/plain": [
              "<Figure size 432x288 with 1 Axes>"
            ]
          },
          "metadata": {
            "needs_background": "light"
          }
        }
      ]
    },
    {
      "cell_type": "code",
      "metadata": {
        "id": "5rnjkv_tyxsc"
      },
      "source": [
        "# Creating fraudulent dataframe\n",
        "data_fraud = df[df['Class'] == 1]\n",
        "# Creating non fraudulent dataframe\n",
        "data_non_fraud = df[df['Class'] == 0]"
      ],
      "execution_count": 13,
      "outputs": []
    },
    {
      "cell_type": "code",
      "metadata": {
        "colab": {
          "base_uri": "https://localhost:8080/",
          "height": 345
        },
        "id": "rVC12yN8zCOM",
        "outputId": "814bea91-c205-47ea-c36c-892076290244"
      },
      "source": [
        "# Distribution plot\n",
        "plt.figure(figsize=(8,5))\n",
        "ax = sns.distplot(data_fraud['Time'],label='fraudulent',hist=False)\n",
        "ax = sns.distplot(data_non_fraud['Time'],label='non fraudulent',hist=False)\n",
        "ax.set(xlabel='Seconds elapsed between the transction and the first transction')\n",
        "plt.show()"
      ],
      "execution_count": 14,
      "outputs": [
        {
          "output_type": "display_data",
          "data": {
            "image/png": "[encoded data removed]",
            "text/plain": [
              "<Figure size 576x360 with 1 Axes>"
            ]
          },
          "metadata": {
            "needs_background": "light"
          }
        }
      ]
    },
    {
      "cell_type": "code",
      "metadata": {
        "id": "9a2fVe2bzGss"
      },
      "source": [
        "# Dropping the Time column\n",
        "df.drop('Time', axis=1, inplace=True)"
      ],
      "execution_count": null,
      "outputs": []
    },
    {
      "cell_type": "code",
      "metadata": {
        "id": "IuP9r2GCzUPe"
      },
      "source": [
        "# Putting feature variables into X\n",
        "X = df.drop(['Class'], axis=1)"
      ],
      "execution_count": 17,
      "outputs": []
    },
    {
      "cell_type": "code",
      "metadata": {
        "id": "l0_53djzzYL8"
      },
      "source": [
        "# Putting target variable to y\n",
        "y = df['Class']"
      ],
      "execution_count": 18,
      "outputs": []
    },
    {
      "cell_type": "code",
      "metadata": {
        "id": "dFTDGy_TzbYN"
      },
      "source": [
        "# Splitting data into train and test set 80:20\n",
        "X_train, X_test, y_train, y_test = train_test_split(X, y, train_size=0.8, test_size=0.2, random_state=100)"
      ],
      "execution_count": 20,
      "outputs": []
    },
    {
      "cell_type": "code",
      "metadata": {
        "id": "zJobXRWZzlQv"
      },
      "source": [
        "# Instantiate the Scaler\n",
        "scaler = StandardScaler()"
      ],
      "execution_count": 21,
      "outputs": []
    },
    {
      "cell_type": "code",
      "metadata": {
        "id": "EhfrKC1vzpvT"
      },
      "source": [
        "# Fit the data into scaler and transform\n",
        "X_train['Amount'] = scaler.fit_transform(X_train[['Amount']])"
      ],
      "execution_count": 22,
      "outputs": []
    },
    {
      "cell_type": "code",
      "metadata": {
        "colab": {
          "base_uri": "https://localhost:8080/",
          "height": 223
        },
        "id": "8shTIkvCzrQm",
        "outputId": "9e8f2c5c-336d-4631-b5c7-9812b6c4e3ce"
      },
      "source": [
        "X_train.head()"
      ],
      "execution_count": 23,
      "outputs": [
        {
          "output_type": "execute_result",
          "data": {
            "text/html": [
              "<div>\n",
              "<style scoped>\n",
              "    .dataframe tbody tr th:only-of-type {\n",
              "        vertical-align: middle;\n",
              "    }\n",
              "\n",
              "    .dataframe tbody tr th {\n",
              "        vertical-align: top;\n",
              "    }\n",
              "\n",
              "    .dataframe thead th {\n",
              "        text-align: right;\n",
              "    }\n",
              "</style>\n",
              "<table border=\"1\" class=\"dataframe\">\n",
              "  <thead>\n",
              "    <tr style=\"text-align: right;\">\n",
              "      <th></th>\n",
              "      <th>Time</th>\n",
              "      <th>V1</th>\n",
              "      <th>V2</th>\n",
              "      <th>V3</th>\n",
              "      <th>V4</th>\n",
              "      <th>V5</th>\n",
              "      <th>V6</th>\n",
              "      <th>V7</th>\n",
              "      <th>V8</th>\n",
              "      <th>V9</th>\n",
              "      <th>V10</th>\n",
              "      <th>V11</th>\n",
              "      <th>V12</th>\n",
              "      <th>V13</th>\n",
              "      <th>V14</th>\n",
              "      <th>V15</th>\n",
              "      <th>V16</th>\n",
              "      <th>V17</th>\n",
              "      <th>V18</th>\n",
              "      <th>V19</th>\n",
              "      <th>V20</th>\n",
              "      <th>V21</th>\n",
              "      <th>V22</th>\n",
              "      <th>V23</th>\n",
              "      <th>V24</th>\n",
              "      <th>V25</th>\n",
              "      <th>V26</th>\n",
              "      <th>V27</th>\n",
              "      <th>V28</th>\n",
              "      <th>Amount</th>\n",
              "    </tr>\n",
              "  </thead>\n",
              "  <tbody>\n",
              "    <tr>\n",
              "      <th>201788</th>\n",
              "      <td>134039.0</td>\n",
              "      <td>2.023734</td>\n",
              "      <td>-0.429219</td>\n",
              "      <td>-0.691061</td>\n",
              "      <td>-0.201461</td>\n",
              "      <td>-0.162486</td>\n",
              "      <td>0.283718</td>\n",
              "      <td>-0.674694</td>\n",
              "      <td>0.192230</td>\n",
              "      <td>1.124319</td>\n",
              "      <td>-0.037763</td>\n",
              "      <td>0.308648</td>\n",
              "      <td>0.875063</td>\n",
              "      <td>-0.009562</td>\n",
              "      <td>0.116038</td>\n",
              "      <td>0.086537</td>\n",
              "      <td>0.628337</td>\n",
              "      <td>-0.997868</td>\n",
              "      <td>0.482547</td>\n",
              "      <td>0.576077</td>\n",
              "      <td>-0.171390</td>\n",
              "      <td>-0.195207</td>\n",
              "      <td>-0.477813</td>\n",
              "      <td>0.340513</td>\n",
              "      <td>0.059174</td>\n",
              "      <td>-0.431015</td>\n",
              "      <td>-0.297028</td>\n",
              "      <td>-0.000063</td>\n",
              "      <td>-0.046947</td>\n",
              "      <td>-0.345273</td>\n",
              "    </tr>\n",
              "    <tr>\n",
              "      <th>179369</th>\n",
              "      <td>124044.0</td>\n",
              "      <td>-0.145286</td>\n",
              "      <td>0.736735</td>\n",
              "      <td>0.543226</td>\n",
              "      <td>0.892662</td>\n",
              "      <td>0.350846</td>\n",
              "      <td>0.089253</td>\n",
              "      <td>0.626708</td>\n",
              "      <td>-0.049137</td>\n",
              "      <td>-0.732566</td>\n",
              "      <td>0.297692</td>\n",
              "      <td>0.519027</td>\n",
              "      <td>0.041275</td>\n",
              "      <td>-0.690783</td>\n",
              "      <td>0.647121</td>\n",
              "      <td>0.526333</td>\n",
              "      <td>-1.098558</td>\n",
              "      <td>0.511739</td>\n",
              "      <td>0.243984</td>\n",
              "      <td>3.349611</td>\n",
              "      <td>0.206709</td>\n",
              "      <td>-0.124288</td>\n",
              "      <td>-0.263560</td>\n",
              "      <td>-0.110568</td>\n",
              "      <td>-0.434224</td>\n",
              "      <td>-0.509076</td>\n",
              "      <td>0.719784</td>\n",
              "      <td>-0.006357</td>\n",
              "      <td>0.146053</td>\n",
              "      <td>-0.206439</td>\n",
              "    </tr>\n",
              "    <tr>\n",
              "      <th>73138</th>\n",
              "      <td>54997.0</td>\n",
              "      <td>-3.015846</td>\n",
              "      <td>-1.920606</td>\n",
              "      <td>1.229574</td>\n",
              "      <td>0.721577</td>\n",
              "      <td>1.089918</td>\n",
              "      <td>-0.195727</td>\n",
              "      <td>-0.462586</td>\n",
              "      <td>0.919341</td>\n",
              "      <td>-0.612193</td>\n",
              "      <td>-0.966197</td>\n",
              "      <td>1.106534</td>\n",
              "      <td>1.026421</td>\n",
              "      <td>-0.474229</td>\n",
              "      <td>0.641488</td>\n",
              "      <td>-0.430684</td>\n",
              "      <td>-0.631257</td>\n",
              "      <td>0.634633</td>\n",
              "      <td>-0.718062</td>\n",
              "      <td>-0.039929</td>\n",
              "      <td>0.842838</td>\n",
              "      <td>0.274911</td>\n",
              "      <td>-0.319550</td>\n",
              "      <td>0.212891</td>\n",
              "      <td>-0.268792</td>\n",
              "      <td>0.241190</td>\n",
              "      <td>0.318445</td>\n",
              "      <td>-0.100726</td>\n",
              "      <td>-0.365257</td>\n",
              "      <td>0.358043</td>\n",
              "    </tr>\n",
              "    <tr>\n",
              "      <th>208679</th>\n",
              "      <td>137226.0</td>\n",
              "      <td>1.851980</td>\n",
              "      <td>-1.007445</td>\n",
              "      <td>-1.499762</td>\n",
              "      <td>-0.220770</td>\n",
              "      <td>-0.568376</td>\n",
              "      <td>-1.232633</td>\n",
              "      <td>0.248573</td>\n",
              "      <td>-0.539483</td>\n",
              "      <td>-0.813368</td>\n",
              "      <td>0.785431</td>\n",
              "      <td>-0.784316</td>\n",
              "      <td>0.673626</td>\n",
              "      <td>1.428269</td>\n",
              "      <td>0.043937</td>\n",
              "      <td>-0.309507</td>\n",
              "      <td>-1.805728</td>\n",
              "      <td>-0.012118</td>\n",
              "      <td>0.377096</td>\n",
              "      <td>-0.658353</td>\n",
              "      <td>-0.196551</td>\n",
              "      <td>-0.406722</td>\n",
              "      <td>-0.899081</td>\n",
              "      <td>0.137370</td>\n",
              "      <td>0.075894</td>\n",
              "      <td>-0.244027</td>\n",
              "      <td>0.455618</td>\n",
              "      <td>-0.094066</td>\n",
              "      <td>-0.031488</td>\n",
              "      <td>0.362400</td>\n",
              "    </tr>\n",
              "    <tr>\n",
              "      <th>206534</th>\n",
              "      <td>136246.0</td>\n",
              "      <td>2.237844</td>\n",
              "      <td>-0.551513</td>\n",
              "      <td>-1.426515</td>\n",
              "      <td>-0.924369</td>\n",
              "      <td>-0.401734</td>\n",
              "      <td>-1.438232</td>\n",
              "      <td>-0.119942</td>\n",
              "      <td>-0.449263</td>\n",
              "      <td>-0.717258</td>\n",
              "      <td>0.851668</td>\n",
              "      <td>-0.497634</td>\n",
              "      <td>-0.445482</td>\n",
              "      <td>0.324575</td>\n",
              "      <td>0.125543</td>\n",
              "      <td>0.266588</td>\n",
              "      <td>0.802640</td>\n",
              "      <td>0.225312</td>\n",
              "      <td>-1.865494</td>\n",
              "      <td>0.621879</td>\n",
              "      <td>-0.045417</td>\n",
              "      <td>0.050447</td>\n",
              "      <td>0.125601</td>\n",
              "      <td>0.215531</td>\n",
              "      <td>-0.080485</td>\n",
              "      <td>-0.063975</td>\n",
              "      <td>-0.307176</td>\n",
              "      <td>-0.042838</td>\n",
              "      <td>-0.063872</td>\n",
              "      <td>-0.316109</td>\n",
              "    </tr>\n",
              "  </tbody>\n",
              "</table>\n",
              "</div>"
            ],
            "text/plain": [
              "            Time        V1        V2        V3        V4        V5        V6  \\\n",
              "201788  134039.0  2.023734 -0.429219 -0.691061 -0.201461 -0.162486  0.283718   \n",
              "179369  124044.0 -0.145286  0.736735  0.543226  0.892662  0.350846  0.089253   \n",
              "73138    54997.0 -3.015846 -1.920606  1.229574  0.721577  1.089918 -0.195727   \n",
              "208679  137226.0  1.851980 -1.007445 -1.499762 -0.220770 -0.568376 -1.232633   \n",
              "206534  136246.0  2.237844 -0.551513 -1.426515 -0.924369 -0.401734 -1.438232   \n",
              "\n",
              "              V7        V8        V9       V10       V11       V12       V13  \\\n",
              "201788 -0.674694  0.192230  1.124319 -0.037763  0.308648  0.875063 -0.009562   \n",
              "179369  0.626708 -0.049137 -0.732566  0.297692  0.519027  0.041275 -0.690783   \n",
              "73138  -0.462586  0.919341 -0.612193 -0.966197  1.106534  1.026421 -0.474229   \n",
              "208679  0.248573 -0.539483 -0.813368  0.785431 -0.784316  0.673626  1.428269   \n",
              "206534 -0.119942 -0.449263 -0.717258  0.851668 -0.497634 -0.445482  0.324575   \n",
              "\n",
              "             V14       V15       V16       V17       V18       V19       V20  \\\n",
              "201788  0.116038  0.086537  0.628337 -0.997868  0.482547  0.576077 -0.171390   \n",
              "179369  0.647121  0.526333 -1.098558  0.511739  0.243984  3.349611  0.206709   \n",
              "73138   0.641488 -0.430684 -0.631257  0.634633 -0.718062 -0.039929  0.842838   \n",
              "208679  0.043937 -0.309507 -1.805728 -0.012118  0.377096 -0.658353 -0.196551   \n",
              "206534  0.125543  0.266588  0.802640  0.225312 -1.865494  0.621879 -0.045417   \n",
              "\n",
              "             V21       V22       V23       V24       V25       V26       V27  \\\n",
              "201788 -0.195207 -0.477813  0.340513  0.059174 -0.431015 -0.297028 -0.000063   \n",
              "179369 -0.124288 -0.263560 -0.110568 -0.434224 -0.509076  0.719784 -0.006357   \n",
              "73138   0.274911 -0.319550  0.212891 -0.268792  0.241190  0.318445 -0.100726   \n",
              "208679 -0.406722 -0.899081  0.137370  0.075894 -0.244027  0.455618 -0.094066   \n",
              "206534  0.050447  0.125601  0.215531 -0.080485 -0.063975 -0.307176 -0.042838   \n",
              "\n",
              "             V28    Amount  \n",
              "201788 -0.046947 -0.345273  \n",
              "179369  0.146053 -0.206439  \n",
              "73138  -0.365257  0.358043  \n",
              "208679 -0.031488  0.362400  \n",
              "206534 -0.063872 -0.316109  "
            ]
          },
          "metadata": {},
          "execution_count": 23
        }
      ]
    },
    {
      "cell_type": "code",
      "metadata": {
        "colab": {
          "base_uri": "https://localhost:8080/",
          "height": 223
        },
        "id": "yc5TBsZEzsqf",
        "outputId": "89671094-bcec-4b74-cd0f-2e07e6251cb0"
      },
      "source": [
        "# Transform the test set\n",
        "X_test['Amount'] = scaler.transform(X_test[['Amount']])\n",
        "X_test.head()"
      ],
      "execution_count": 24,
      "outputs": [
        {
          "output_type": "execute_result",
          "data": {
            "text/html": [
              "<div>\n",
              "<style scoped>\n",
              "    .dataframe tbody tr th:only-of-type {\n",
              "        vertical-align: middle;\n",
              "    }\n",
              "\n",
              "    .dataframe tbody tr th {\n",
              "        vertical-align: top;\n",
              "    }\n",
              "\n",
              "    .dataframe thead th {\n",
              "        text-align: right;\n",
              "    }\n",
              "</style>\n",
              "<table border=\"1\" class=\"dataframe\">\n",
              "  <thead>\n",
              "    <tr style=\"text-align: right;\">\n",
              "      <th></th>\n",
              "      <th>Time</th>\n",
              "      <th>V1</th>\n",
              "      <th>V2</th>\n",
              "      <th>V3</th>\n",
              "      <th>V4</th>\n",
              "      <th>V5</th>\n",
              "      <th>V6</th>\n",
              "      <th>V7</th>\n",
              "      <th>V8</th>\n",
              "      <th>V9</th>\n",
              "      <th>V10</th>\n",
              "      <th>V11</th>\n",
              "      <th>V12</th>\n",
              "      <th>V13</th>\n",
              "      <th>V14</th>\n",
              "      <th>V15</th>\n",
              "      <th>V16</th>\n",
              "      <th>V17</th>\n",
              "      <th>V18</th>\n",
              "      <th>V19</th>\n",
              "      <th>V20</th>\n",
              "      <th>V21</th>\n",
              "      <th>V22</th>\n",
              "      <th>V23</th>\n",
              "      <th>V24</th>\n",
              "      <th>V25</th>\n",
              "      <th>V26</th>\n",
              "      <th>V27</th>\n",
              "      <th>V28</th>\n",
              "      <th>Amount</th>\n",
              "    </tr>\n",
              "  </thead>\n",
              "  <tbody>\n",
              "    <tr>\n",
              "      <th>49089</th>\n",
              "      <td>43906.0</td>\n",
              "      <td>1.229452</td>\n",
              "      <td>-0.235478</td>\n",
              "      <td>-0.627166</td>\n",
              "      <td>0.419877</td>\n",
              "      <td>1.797014</td>\n",
              "      <td>4.069574</td>\n",
              "      <td>-0.896223</td>\n",
              "      <td>1.036103</td>\n",
              "      <td>0.745991</td>\n",
              "      <td>-0.147304</td>\n",
              "      <td>-0.850459</td>\n",
              "      <td>0.397845</td>\n",
              "      <td>-0.259849</td>\n",
              "      <td>-0.277065</td>\n",
              "      <td>-0.766810</td>\n",
              "      <td>-0.200946</td>\n",
              "      <td>-0.338122</td>\n",
              "      <td>0.006032</td>\n",
              "      <td>0.477431</td>\n",
              "      <td>-0.057922</td>\n",
              "      <td>-0.170060</td>\n",
              "      <td>-0.288750</td>\n",
              "      <td>-0.130270</td>\n",
              "      <td>1.025935</td>\n",
              "      <td>0.847990</td>\n",
              "      <td>-0.271476</td>\n",
              "      <td>0.060052</td>\n",
              "      <td>0.018104</td>\n",
              "      <td>-0.340485</td>\n",
              "    </tr>\n",
              "    <tr>\n",
              "      <th>154704</th>\n",
              "      <td>102638.0</td>\n",
              "      <td>2.016893</td>\n",
              "      <td>-0.088751</td>\n",
              "      <td>-2.989257</td>\n",
              "      <td>-0.142575</td>\n",
              "      <td>2.675427</td>\n",
              "      <td>3.332289</td>\n",
              "      <td>-0.652336</td>\n",
              "      <td>0.752811</td>\n",
              "      <td>1.962566</td>\n",
              "      <td>-1.025024</td>\n",
              "      <td>1.126976</td>\n",
              "      <td>-2.418093</td>\n",
              "      <td>1.250341</td>\n",
              "      <td>-0.056209</td>\n",
              "      <td>-0.736695</td>\n",
              "      <td>0.014783</td>\n",
              "      <td>1.890249</td>\n",
              "      <td>0.333755</td>\n",
              "      <td>-0.450398</td>\n",
              "      <td>-0.147619</td>\n",
              "      <td>-0.184153</td>\n",
              "      <td>-0.089661</td>\n",
              "      <td>0.087188</td>\n",
              "      <td>0.570679</td>\n",
              "      <td>0.101899</td>\n",
              "      <td>0.620842</td>\n",
              "      <td>-0.048958</td>\n",
              "      <td>-0.042831</td>\n",
              "      <td>-0.320859</td>\n",
              "    </tr>\n",
              "    <tr>\n",
              "      <th>67247</th>\n",
              "      <td>52429.0</td>\n",
              "      <td>0.535093</td>\n",
              "      <td>-1.469185</td>\n",
              "      <td>0.868279</td>\n",
              "      <td>0.385462</td>\n",
              "      <td>-1.439135</td>\n",
              "      <td>0.368118</td>\n",
              "      <td>-0.499370</td>\n",
              "      <td>0.303698</td>\n",
              "      <td>1.042073</td>\n",
              "      <td>-0.437209</td>\n",
              "      <td>1.145725</td>\n",
              "      <td>0.907573</td>\n",
              "      <td>-1.095634</td>\n",
              "      <td>-0.055080</td>\n",
              "      <td>-0.621880</td>\n",
              "      <td>-0.191066</td>\n",
              "      <td>0.311988</td>\n",
              "      <td>-0.478635</td>\n",
              "      <td>0.231159</td>\n",
              "      <td>0.437685</td>\n",
              "      <td>0.028010</td>\n",
              "      <td>-0.384708</td>\n",
              "      <td>-0.128376</td>\n",
              "      <td>0.286638</td>\n",
              "      <td>-0.136700</td>\n",
              "      <td>0.913904</td>\n",
              "      <td>-0.083364</td>\n",
              "      <td>0.052485</td>\n",
              "      <td>0.853442</td>\n",
              "    </tr>\n",
              "    <tr>\n",
              "      <th>251657</th>\n",
              "      <td>155444.0</td>\n",
              "      <td>2.128486</td>\n",
              "      <td>-0.117215</td>\n",
              "      <td>-1.513910</td>\n",
              "      <td>0.166456</td>\n",
              "      <td>0.359070</td>\n",
              "      <td>-0.540072</td>\n",
              "      <td>0.116023</td>\n",
              "      <td>-0.216140</td>\n",
              "      <td>0.680314</td>\n",
              "      <td>0.079977</td>\n",
              "      <td>-1.705327</td>\n",
              "      <td>-0.127579</td>\n",
              "      <td>-0.207945</td>\n",
              "      <td>0.307878</td>\n",
              "      <td>0.213491</td>\n",
              "      <td>0.163032</td>\n",
              "      <td>-0.587029</td>\n",
              "      <td>-0.561292</td>\n",
              "      <td>0.472667</td>\n",
              "      <td>-0.227278</td>\n",
              "      <td>-0.357993</td>\n",
              "      <td>-0.905085</td>\n",
              "      <td>0.223474</td>\n",
              "      <td>-1.075605</td>\n",
              "      <td>-0.188519</td>\n",
              "      <td>0.267672</td>\n",
              "      <td>-0.071733</td>\n",
              "      <td>-0.072238</td>\n",
              "      <td>-0.344410</td>\n",
              "    </tr>\n",
              "    <tr>\n",
              "      <th>201903</th>\n",
              "      <td>134084.0</td>\n",
              "      <td>0.558593</td>\n",
              "      <td>1.587908</td>\n",
              "      <td>-2.368767</td>\n",
              "      <td>5.124413</td>\n",
              "      <td>2.171788</td>\n",
              "      <td>-0.500419</td>\n",
              "      <td>1.059829</td>\n",
              "      <td>-0.254233</td>\n",
              "      <td>-1.959060</td>\n",
              "      <td>0.948915</td>\n",
              "      <td>-0.288169</td>\n",
              "      <td>-1.007647</td>\n",
              "      <td>0.470316</td>\n",
              "      <td>-2.771902</td>\n",
              "      <td>0.221958</td>\n",
              "      <td>0.354333</td>\n",
              "      <td>2.603189</td>\n",
              "      <td>1.092576</td>\n",
              "      <td>0.668084</td>\n",
              "      <td>0.249457</td>\n",
              "      <td>-0.035049</td>\n",
              "      <td>0.271455</td>\n",
              "      <td>0.381606</td>\n",
              "      <td>0.332001</td>\n",
              "      <td>-0.334757</td>\n",
              "      <td>0.448890</td>\n",
              "      <td>0.168585</td>\n",
              "      <td>0.004955</td>\n",
              "      <td>-0.229480</td>\n",
              "    </tr>\n",
              "  </tbody>\n",
              "</table>\n",
              "</div>"
            ],
            "text/plain": [
              "            Time        V1        V2        V3        V4        V5        V6  \\\n",
              "49089    43906.0  1.229452 -0.235478 -0.627166  0.419877  1.797014  4.069574   \n",
              "154704  102638.0  2.016893 -0.088751 -2.989257 -0.142575  2.675427  3.332289   \n",
              "67247    52429.0  0.535093 -1.469185  0.868279  0.385462 -1.439135  0.368118   \n",
              "251657  155444.0  2.128486 -0.117215 -1.513910  0.166456  0.359070 -0.540072   \n",
              "201903  134084.0  0.558593  1.587908 -2.368767  5.124413  2.171788 -0.500419   \n",
              "\n",
              "              V7        V8        V9       V10       V11       V12       V13  \\\n",
              "49089  -0.896223  1.036103  0.745991 -0.147304 -0.850459  0.397845 -0.259849   \n",
              "154704 -0.652336  0.752811  1.962566 -1.025024  1.126976 -2.418093  1.250341   \n",
              "67247  -0.499370  0.303698  1.042073 -0.437209  1.145725  0.907573 -1.095634   \n",
              "251657  0.116023 -0.216140  0.680314  0.079977 -1.705327 -0.127579 -0.207945   \n",
              "201903  1.059829 -0.254233 -1.959060  0.948915 -0.288169 -1.007647  0.470316   \n",
              "\n",
              "             V14       V15       V16       V17       V18       V19       V20  \\\n",
              "49089  -0.277065 -0.766810 -0.200946 -0.338122  0.006032  0.477431 -0.057922   \n",
              "154704 -0.056209 -0.736695  0.014783  1.890249  0.333755 -0.450398 -0.147619   \n",
              "67247  -0.055080 -0.621880 -0.191066  0.311988 -0.478635  0.231159  0.437685   \n",
              "251657  0.307878  0.213491  0.163032 -0.587029 -0.561292  0.472667 -0.227278   \n",
              "201903 -2.771902  0.221958  0.354333  2.603189  1.092576  0.668084  0.249457   \n",
              "\n",
              "             V21       V22       V23       V24       V25       V26       V27  \\\n",
              "49089  -0.170060 -0.288750 -0.130270  1.025935  0.847990 -0.271476  0.060052   \n",
              "154704 -0.184153 -0.089661  0.087188  0.570679  0.101899  0.620842 -0.048958   \n",
              "67247   0.028010 -0.384708 -0.128376  0.286638 -0.136700  0.913904 -0.083364   \n",
              "251657 -0.357993 -0.905085  0.223474 -1.075605 -0.188519  0.267672 -0.071733   \n",
              "201903 -0.035049  0.271455  0.381606  0.332001 -0.334757  0.448890  0.168585   \n",
              "\n",
              "             V28    Amount  \n",
              "49089   0.018104 -0.340485  \n",
              "154704 -0.042831 -0.320859  \n",
              "67247   0.052485  0.853442  \n",
              "251657 -0.072238 -0.344410  \n",
              "201903  0.004955 -0.229480  "
            ]
          },
          "metadata": {},
          "execution_count": 24
        }
      ]
    },
    {
      "cell_type": "code",
      "metadata": {
        "colab": {
          "base_uri": "https://localhost:8080/"
        },
        "id": "YNiDa0J6zwMV",
        "outputId": "030512c3-597e-453e-a143-d706e14dc917"
      },
      "source": [
        "# Listing the columns\n",
        "cols = X_train.columns\n",
        "cols"
      ],
      "execution_count": 25,
      "outputs": [
        {
          "output_type": "execute_result",
          "data": {
            "text/plain": [
              "Index(['Time', 'V1', 'V2', 'V3', 'V4', 'V5', 'V6', 'V7', 'V8', 'V9', 'V10',\n",
              "       'V11', 'V12', 'V13', 'V14', 'V15', 'V16', 'V17', 'V18', 'V19', 'V20',\n",
              "       'V21', 'V22', 'V23', 'V24', 'V25', 'V26', 'V27', 'V28', 'Amount'],\n",
              "      dtype='object')"
            ]
          },
          "metadata": {},
          "execution_count": 25
        }
      ]
    },
    {
      "cell_type": "code",
      "metadata": {
        "colab": {
          "base_uri": "https://localhost:8080/"
        },
        "id": "2IcVYWPSz2mO",
        "outputId": "51eb9ea0-99ad-48d1-c832-5cd7d5c0ec76"
      },
      "source": [
        "X_train.isnull().any()"
      ],
      "execution_count": 26,
      "outputs": [
        {
          "output_type": "execute_result",
          "data": {
            "text/plain": [
              "Time      False\n",
              "V1        False\n",
              "V2        False\n",
              "V3        False\n",
              "V4        False\n",
              "V5        False\n",
              "V6        False\n",
              "V7        False\n",
              "V8        False\n",
              "V9        False\n",
              "V10       False\n",
              "V11       False\n",
              "V12       False\n",
              "V13       False\n",
              "V14       False\n",
              "V15       False\n",
              "V16       False\n",
              "V17       False\n",
              "V18       False\n",
              "V19       False\n",
              "V20       False\n",
              "V21       False\n",
              "V22       False\n",
              "V23       False\n",
              "V24       False\n",
              "V25       False\n",
              "V26       False\n",
              "V27       False\n",
              "V28       False\n",
              "Amount    False\n",
              "dtype: bool"
            ]
          },
          "metadata": {},
          "execution_count": 26
        }
      ]
    },
    {
      "cell_type": "code",
      "metadata": {
        "id": "3lfcROOdz5gO"
      },
      "source": [
        "# Instantiate SMOTE\n",
        "sm = SMOTE(random_state=27)\n",
        "# Fitting SMOTE to the train set\n",
        "X_train_smote, y_train_smote = sm.fit_sample(X_train, y_train)"
      ],
      "execution_count": 27,
      "outputs": []
    },
    {
      "cell_type": "code",
      "metadata": {
        "colab": {
          "base_uri": "https://localhost:8080/"
        },
        "id": "2S2j2tsIz87t",
        "outputId": "d597e2c8-ec69-47c5-caf8-514317fbf8dd"
      },
      "source": [
        "print('Before SMOTE oversampling X_train shape=',X_train.shape)\n",
        "print('After SMOTE oversampling X_train shape=',X_train_smote.shape)"
      ],
      "execution_count": 28,
      "outputs": [
        {
          "output_type": "stream",
          "name": "stdout",
          "text": [
            "Before SMOTE oversampling X_train shape= (227845, 30)\n",
            "After SMOTE oversampling X_train shape= (454898, 30)\n"
          ]
        }
      ]
    },
    {
      "cell_type": "code",
      "metadata": {
        "colab": {
          "base_uri": "https://localhost:8080/"
        },
        "id": "iX1RhDZ90BE0",
        "outputId": "8beb9fdf-6822-4d08-b4e3-6105b802ac41"
      },
      "source": [
        "# Creating KFold object with 5 splits\n",
        "folds = KFold(n_splits=5, shuffle=True, random_state=4)\n",
        "\n",
        "# Specify params\n",
        "params = {\"C\": [0.01, 0.1, 1, 10, 100, 1000]}\n",
        "\n",
        "# Specifing score as roc-auc\n",
        "model_cv = GridSearchCV(estimator = LogisticRegression(),\n",
        "                        param_grid = params, \n",
        "                        scoring= 'roc_auc', \n",
        "                        cv = folds, \n",
        "                        verbose = 1,\n",
        "                        return_train_score=True) \n",
        "\n",
        "# Fit the model\n",
        "model_cv.fit(X_train_smote, y_train_smote)"
      ],
      "execution_count": 29,
      "outputs": [
        {
          "output_type": "stream",
          "name": "stdout",
          "text": [
            "Fitting 5 folds for each of 6 candidates, totalling 30 fits\n"
          ]
        },
        {
          "output_type": "stream",
          "name": "stderr",
          "text": [
            "[Parallel(n_jobs=1)]: Using backend SequentialBackend with 1 concurrent workers.\n",
            "[Parallel(n_jobs=1)]: Done  30 out of  30 | elapsed:  1.9min finished\n"
          ]
        },
        {
          "output_type": "execute_result",
          "data": {
            "text/plain": [
              "GridSearchCV(cv=KFold(n_splits=5, random_state=4, shuffle=True),\n",
              "             error_score=nan,\n",
              "             estimator=LogisticRegression(C=1.0, class_weight=None, dual=False,\n",
              "                                          fit_intercept=True,\n",
              "                                          intercept_scaling=1, l1_ratio=None,\n",
              "                                          max_iter=100, multi_class='auto',\n",
              "                                          n_jobs=None, penalty='l2',\n",
              "                                          random_state=None, solver='lbfgs',\n",
              "                                          tol=0.0001, verbose=0,\n",
              "                                          warm_start=False),\n",
              "             iid='deprecated', n_jobs=None,\n",
              "             param_grid={'C': [0.01, 0.1, 1, 10, 100, 1000]},\n",
              "             pre_dispatch='2*n_jobs', refit=True, return_train_score=True,\n",
              "             scoring='roc_auc', verbose=1)"
            ]
          },
          "metadata": {},
          "execution_count": 29
        }
      ]
    },
    {
      "cell_type": "code",
      "metadata": {
        "colab": {
          "base_uri": "https://localhost:8080/",
          "height": 338
        },
        "id": "k5uGrEYV0Q3N",
        "outputId": "92a34c14-1373-4cf3-972d-3554b19c59dd"
      },
      "source": [
        "# results of grid search CV\n",
        "cv_results = pd.DataFrame(model_cv.cv_results_)\n",
        "cv_results"
      ],
      "execution_count": 30,
      "outputs": [
        {
          "output_type": "execute_result",
          "data": {
            "text/html": [
              "<div>\n",
              "<style scoped>\n",
              "    .dataframe tbody tr th:only-of-type {\n",
              "        vertical-align: middle;\n",
              "    }\n",
              "\n",
              "    .dataframe tbody tr th {\n",
              "        vertical-align: top;\n",
              "    }\n",
              "\n",
              "    .dataframe thead th {\n",
              "        text-align: right;\n",
              "    }\n",
              "</style>\n",
              "<table border=\"1\" class=\"dataframe\">\n",
              "  <thead>\n",
              "    <tr style=\"text-align: right;\">\n",
              "      <th></th>\n",
              "      <th>mean_fit_time</th>\n",
              "      <th>std_fit_time</th>\n",
              "      <th>mean_score_time</th>\n",
              "      <th>std_score_time</th>\n",
              "      <th>param_C</th>\n",
              "      <th>params</th>\n",
              "      <th>split0_test_score</th>\n",
              "      <th>split1_test_score</th>\n",
              "      <th>split2_test_score</th>\n",
              "      <th>split3_test_score</th>\n",
              "      <th>split4_test_score</th>\n",
              "      <th>mean_test_score</th>\n",
              "      <th>std_test_score</th>\n",
              "      <th>rank_test_score</th>\n",
              "      <th>split0_train_score</th>\n",
              "      <th>split1_train_score</th>\n",
              "      <th>split2_train_score</th>\n",
              "      <th>split3_train_score</th>\n",
              "      <th>split4_train_score</th>\n",
              "      <th>mean_train_score</th>\n",
              "      <th>std_train_score</th>\n",
              "    </tr>\n",
              "  </thead>\n",
              "  <tbody>\n",
              "    <tr>\n",
              "      <th>0</th>\n",
              "      <td>3.492991</td>\n",
              "      <td>0.704089</td>\n",
              "      <td>0.056835</td>\n",
              "      <td>0.001035</td>\n",
              "      <td>0.01</td>\n",
              "      <td>{'C': 0.01}</td>\n",
              "      <td>0.994717</td>\n",
              "      <td>0.987071</td>\n",
              "      <td>0.986640</td>\n",
              "      <td>0.986801</td>\n",
              "      <td>0.987228</td>\n",
              "      <td>0.988491</td>\n",
              "      <td>0.003120</td>\n",
              "      <td>6</td>\n",
              "      <td>0.994274</td>\n",
              "      <td>0.987072</td>\n",
              "      <td>0.987176</td>\n",
              "      <td>0.987170</td>\n",
              "      <td>0.986929</td>\n",
              "      <td>0.988524</td>\n",
              "      <td>0.002876</td>\n",
              "    </tr>\n",
              "    <tr>\n",
              "      <th>1</th>\n",
              "      <td>3.391425</td>\n",
              "      <td>0.489196</td>\n",
              "      <td>0.057288</td>\n",
              "      <td>0.001416</td>\n",
              "      <td>0.1</td>\n",
              "      <td>{'C': 0.1}</td>\n",
              "      <td>0.994760</td>\n",
              "      <td>0.987146</td>\n",
              "      <td>0.986717</td>\n",
              "      <td>0.986877</td>\n",
              "      <td>0.987300</td>\n",
              "      <td>0.988560</td>\n",
              "      <td>0.003107</td>\n",
              "      <td>5</td>\n",
              "      <td>0.994315</td>\n",
              "      <td>0.987147</td>\n",
              "      <td>0.987251</td>\n",
              "      <td>0.987245</td>\n",
              "      <td>0.987003</td>\n",
              "      <td>0.988592</td>\n",
              "      <td>0.002863</td>\n",
              "    </tr>\n",
              "    <tr>\n",
              "      <th>2</th>\n",
              "      <td>3.463468</td>\n",
              "      <td>0.670290</td>\n",
              "      <td>0.056537</td>\n",
              "      <td>0.000306</td>\n",
              "      <td>1</td>\n",
              "      <td>{'C': 1}</td>\n",
              "      <td>0.994766</td>\n",
              "      <td>0.987153</td>\n",
              "      <td>0.986724</td>\n",
              "      <td>0.986885</td>\n",
              "      <td>0.987307</td>\n",
              "      <td>0.988567</td>\n",
              "      <td>0.003106</td>\n",
              "      <td>4</td>\n",
              "      <td>0.994322</td>\n",
              "      <td>0.987154</td>\n",
              "      <td>0.987258</td>\n",
              "      <td>0.987253</td>\n",
              "      <td>0.987011</td>\n",
              "      <td>0.988600</td>\n",
              "      <td>0.002862</td>\n",
              "    </tr>\n",
              "    <tr>\n",
              "      <th>3</th>\n",
              "      <td>3.464933</td>\n",
              "      <td>0.615636</td>\n",
              "      <td>0.059006</td>\n",
              "      <td>0.002439</td>\n",
              "      <td>10</td>\n",
              "      <td>{'C': 10}</td>\n",
              "      <td>0.994767</td>\n",
              "      <td>0.987154</td>\n",
              "      <td>0.986725</td>\n",
              "      <td>0.986886</td>\n",
              "      <td>0.987308</td>\n",
              "      <td>0.988568</td>\n",
              "      <td>0.003106</td>\n",
              "      <td>3</td>\n",
              "      <td>0.994323</td>\n",
              "      <td>0.987155</td>\n",
              "      <td>0.987259</td>\n",
              "      <td>0.987254</td>\n",
              "      <td>0.987012</td>\n",
              "      <td>0.988600</td>\n",
              "      <td>0.002863</td>\n",
              "    </tr>\n",
              "    <tr>\n",
              "      <th>4</th>\n",
              "      <td>3.499387</td>\n",
              "      <td>0.669314</td>\n",
              "      <td>0.058686</td>\n",
              "      <td>0.001394</td>\n",
              "      <td>100</td>\n",
              "      <td>{'C': 100}</td>\n",
              "      <td>0.994767</td>\n",
              "      <td>0.987154</td>\n",
              "      <td>0.986725</td>\n",
              "      <td>0.986886</td>\n",
              "      <td>0.987308</td>\n",
              "      <td>0.988568</td>\n",
              "      <td>0.003106</td>\n",
              "      <td>2</td>\n",
              "      <td>0.994323</td>\n",
              "      <td>0.987155</td>\n",
              "      <td>0.987259</td>\n",
              "      <td>0.987254</td>\n",
              "      <td>0.987012</td>\n",
              "      <td>0.988601</td>\n",
              "      <td>0.002863</td>\n",
              "    </tr>\n",
              "    <tr>\n",
              "      <th>5</th>\n",
              "      <td>3.489072</td>\n",
              "      <td>0.674496</td>\n",
              "      <td>0.056205</td>\n",
              "      <td>0.000394</td>\n",
              "      <td>1000</td>\n",
              "      <td>{'C': 1000}</td>\n",
              "      <td>0.994767</td>\n",
              "      <td>0.987154</td>\n",
              "      <td>0.986725</td>\n",
              "      <td>0.986886</td>\n",
              "      <td>0.987308</td>\n",
              "      <td>0.988568</td>\n",
              "      <td>0.003106</td>\n",
              "      <td>1</td>\n",
              "      <td>0.994323</td>\n",
              "      <td>0.987155</td>\n",
              "      <td>0.987259</td>\n",
              "      <td>0.987254</td>\n",
              "      <td>0.987012</td>\n",
              "      <td>0.988601</td>\n",
              "      <td>0.002863</td>\n",
              "    </tr>\n",
              "  </tbody>\n",
              "</table>\n",
              "</div>"
            ],
            "text/plain": [
              "   mean_fit_time  std_fit_time  mean_score_time  std_score_time param_C  \\\n",
              "0       3.492991      0.704089         0.056835        0.001035    0.01   \n",
              "1       3.391425      0.489196         0.057288        0.001416     0.1   \n",
              "2       3.463468      0.670290         0.056537        0.000306       1   \n",
              "3       3.464933      0.615636         0.059006        0.002439      10   \n",
              "4       3.499387      0.669314         0.058686        0.001394     100   \n",
              "5       3.489072      0.674496         0.056205        0.000394    1000   \n",
              "\n",
              "        params  split0_test_score  split1_test_score  split2_test_score  \\\n",
              "0  {'C': 0.01}           0.994717           0.987071           0.986640   \n",
              "1   {'C': 0.1}           0.994760           0.987146           0.986717   \n",
              "2     {'C': 1}           0.994766           0.987153           0.986724   \n",
              "3    {'C': 10}           0.994767           0.987154           0.986725   \n",
              "4   {'C': 100}           0.994767           0.987154           0.986725   \n",
              "5  {'C': 1000}           0.994767           0.987154           0.986725   \n",
              "\n",
              "   split3_test_score  split4_test_score  mean_test_score  std_test_score  \\\n",
              "0           0.986801           0.987228         0.988491        0.003120   \n",
              "1           0.986877           0.987300         0.988560        0.003107   \n",
              "2           0.986885           0.987307         0.988567        0.003106   \n",
              "3           0.986886           0.987308         0.988568        0.003106   \n",
              "4           0.986886           0.987308         0.988568        0.003106   \n",
              "5           0.986886           0.987308         0.988568        0.003106   \n",
              "\n",
              "   rank_test_score  split0_train_score  split1_train_score  \\\n",
              "0                6            0.994274            0.987072   \n",
              "1                5            0.994315            0.987147   \n",
              "2                4            0.994322            0.987154   \n",
              "3                3            0.994323            0.987155   \n",
              "4                2            0.994323            0.987155   \n",
              "5                1            0.994323            0.987155   \n",
              "\n",
              "   split2_train_score  split3_train_score  split4_train_score  \\\n",
              "0            0.987176            0.987170            0.986929   \n",
              "1            0.987251            0.987245            0.987003   \n",
              "2            0.987258            0.987253            0.987011   \n",
              "3            0.987259            0.987254            0.987012   \n",
              "4            0.987259            0.987254            0.987012   \n",
              "5            0.987259            0.987254            0.987012   \n",
              "\n",
              "   mean_train_score  std_train_score  \n",
              "0          0.988524         0.002876  \n",
              "1          0.988592         0.002863  \n",
              "2          0.988600         0.002862  \n",
              "3          0.988600         0.002863  \n",
              "4          0.988601         0.002863  \n",
              "5          0.988601         0.002863  "
            ]
          },
          "metadata": {},
          "execution_count": 30
        }
      ]
    },
    {
      "cell_type": "code",
      "metadata": {
        "colab": {
          "base_uri": "https://localhost:8080/",
          "height": 392
        },
        "id": "8XIiP80O0T3O",
        "outputId": "64adc7ff-498f-4056-e60b-2337af15734c"
      },
      "source": [
        "# plot of C versus train and validation scores\n",
        "\n",
        "plt.figure(figsize=(8, 6))\n",
        "plt.plot(cv_results['param_C'], cv_results['mean_test_score'])\n",
        "plt.plot(cv_results['param_C'], cv_results['mean_train_score'])\n",
        "plt.xlabel('C')\n",
        "plt.ylabel('roc_auc')\n",
        "plt.legend(['test result', 'train result'], loc='upper left')\n",
        "plt.xscale('log')"
      ],
      "execution_count": 31,
      "outputs": [
        {
          "output_type": "display_data",
          "data": {
            "image/png": "[encoded data removed]",
            "text/plain": [
              "<Figure size 576x432 with 1 Axes>"
            ]
          },
          "metadata": {
            "needs_background": "light"
          }
        }
      ]
    },
    {
      "cell_type": "code",
      "metadata": {
        "colab": {
          "base_uri": "https://localhost:8080/"
        },
        "id": "Hnl23er70W8_",
        "outputId": "2447b455-6dd9-4266-9c20-633935218e4e"
      },
      "source": [
        "# Best score with best C\n",
        "best_score = model_cv.best_score_\n",
        "best_C = model_cv.best_params_['C']\n",
        "\n",
        "print(\" The highest test roc_auc is {0} at C = {1}\".format(best_score, best_C))"
      ],
      "execution_count": 32,
      "outputs": [
        {
          "output_type": "stream",
          "name": "stdout",
          "text": [
            " The highest test roc_auc is 0.9885681366172866 at C = 1000\n"
          ]
        }
      ]
    },
    {
      "cell_type": "code",
      "metadata": {
        "id": "Vitrx-4f0Xss"
      },
      "source": [
        "# Instantiate the model with best C\n",
        "logistic_bal_smote = LogisticRegression(C=0.1)"
      ],
      "execution_count": 33,
      "outputs": []
    },
    {
      "cell_type": "code",
      "metadata": {
        "id": "yJXAAY3l0bFl"
      },
      "source": [
        "# Fit the model on the train set\n",
        "logistic_bal_smote_model = logistic_bal_smote.fit(X_train_smote, y_train_smote)"
      ],
      "execution_count": 34,
      "outputs": []
    },
    {
      "cell_type": "code",
      "metadata": {
        "id": "4WxWQ5ey0ciM"
      },
      "source": [
        "# Predictions on the train set\n",
        "y_train_pred = logistic_bal_smote_model.predict(X_train_smote)"
      ],
      "execution_count": 35,
      "outputs": []
    },
    {
      "cell_type": "code",
      "metadata": {
        "colab": {
          "base_uri": "https://localhost:8080/"
        },
        "id": "R0fTtxMH0esm",
        "outputId": "52c30235-c249-4768-b1a5-67cd7754eccb"
      },
      "source": [
        "# Confusion matrix\n",
        "confusion = metrics.confusion_matrix(y_train_smote, y_train_pred)\n",
        "print(confusion)"
      ],
      "execution_count": 36,
      "outputs": [
        {
          "output_type": "stream",
          "name": "stdout",
          "text": [
            "[[220334   7115]\n",
            " [ 11331 216118]]\n"
          ]
        }
      ]
    },
    {
      "cell_type": "code",
      "metadata": {
        "id": "_uV-kY_20glc"
      },
      "source": [
        "TP = confusion[1,1] # true positive \n",
        "TN = confusion[0,0] # true negatives\n",
        "FP = confusion[0,1] # false positives\n",
        "FN = confusion[1,0] # false negatives"
      ],
      "execution_count": 37,
      "outputs": []
    },
    {
      "cell_type": "code",
      "metadata": {
        "colab": {
          "base_uri": "https://localhost:8080/"
        },
        "id": "NTxuQkwH0p9d",
        "outputId": "f0964ecf-4b28-4c21-ade1-b87270dd31d6"
      },
      "source": [
        "# Accuracy\n",
        "print(\"Accuracy:-\",metrics.accuracy_score(y_train_smote, y_train_pred))\n",
        "\n",
        "# Sensitivity\n",
        "print(\"Sensitivity:-\",TP / float(TP+FN))\n",
        "\n",
        "# Specificity\n",
        "print(\"Specificity:-\", TN / float(TN+FP))"
      ],
      "execution_count": 38,
      "outputs": [
        {
          "output_type": "stream",
          "name": "stdout",
          "text": [
            "Accuracy:- 0.9594502503858008\n",
            "Sensitivity:- 0.9501822386556986\n",
            "Specificity:- 0.968718262115903\n"
          ]
        }
      ]
    },
    {
      "cell_type": "code",
      "metadata": {
        "colab": {
          "base_uri": "https://localhost:8080/"
        },
        "id": "_UGd7kPz0tVd",
        "outputId": "0be28bc6-ddf2-4351-9e19-37238165b26b"
      },
      "source": [
        "# classification_report\n",
        "print(classification_report(y_train_smote, y_train_pred))"
      ],
      "execution_count": 39,
      "outputs": [
        {
          "output_type": "stream",
          "name": "stdout",
          "text": [
            "              precision    recall  f1-score   support\n",
            "\n",
            "           0       0.95      0.97      0.96    227449\n",
            "           1       0.97      0.95      0.96    227449\n",
            "\n",
            "    accuracy                           0.96    454898\n",
            "   macro avg       0.96      0.96      0.96    454898\n",
            "weighted avg       0.96      0.96      0.96    454898\n",
            "\n"
          ]
        }
      ]
    },
    {
      "cell_type": "code",
      "metadata": {
        "id": "fnvfFGpa0u_P"
      },
      "source": [
        "# Predicted probability\n",
        "y_train_pred_proba_log_bal_smote = logistic_bal_smote_model.predict_proba(X_train_smote)[:,1]"
      ],
      "execution_count": 40,
      "outputs": []
    },
    {
      "cell_type": "code",
      "metadata": {
        "id": "299mgEEz0weG"
      },
      "source": [
        "# ROC Curve function\n",
        "\n",
        "def draw_roc( actual, probs ):\n",
        "    fpr, tpr, thresholds = metrics.roc_curve( actual, probs,\n",
        "                                              drop_intermediate = False )\n",
        "    auc_score = metrics.roc_auc_score( actual, probs )\n",
        "    plt.figure(figsize=(5, 5))\n",
        "    plt.plot( fpr, tpr, label='ROC curve (area = %0.2f)' % auc_score )\n",
        "    plt.plot([0, 1], [0, 1], 'k--')\n",
        "    plt.xlim([0.0, 1.0])\n",
        "    plt.ylim([0.0, 1.05])\n",
        "    plt.xlabel('False Positive Rate or [1 - True Negative Rate]')\n",
        "    plt.ylabel('True Positive Rate')\n",
        "    plt.title('Receiver operating characteristic example')\n",
        "    plt.legend(loc=\"lower right\")\n",
        "    plt.show()\n",
        "\n",
        "    return None"
      ],
      "execution_count": 41,
      "outputs": []
    },
    {
      "cell_type": "code",
      "metadata": {
        "colab": {
          "base_uri": "https://localhost:8080/",
          "height": 350
        },
        "id": "kBpFgVyG0yxX",
        "outputId": "9217fd46-ccfc-4319-8662-471737d7c3b3"
      },
      "source": [
        "# Plot the ROC curve\n",
        "draw_roc(y_train_smote, y_train_pred_proba_log_bal_smote)"
      ],
      "execution_count": 42,
      "outputs": [
        {
          "output_type": "display_data",
          "data": {
            "image/png": "[encoded data removed]",
            "text/plain": [
              "<Figure size 360x360 with 1 Axes>"
            ]
          },
          "metadata": {
            "needs_background": "light"
          }
        }
      ]
    },
    {
      "cell_type": "code",
      "metadata": {
        "id": "tXzoA0ME01c3"
      },
      "source": [
        "# Prediction on the test set\n",
        "y_test_pred = logistic_bal_smote_model.predict(X_test)"
      ],
      "execution_count": 43,
      "outputs": []
    },
    {
      "cell_type": "code",
      "metadata": {
        "colab": {
          "base_uri": "https://localhost:8080/"
        },
        "id": "rBU3vQjb01fE",
        "outputId": "102f2cd1-e2c5-4620-cf31-452539ed8ba5"
      },
      "source": [
        "# Confusion matrix\n",
        "confusion = metrics.confusion_matrix(y_test, y_test_pred)\n",
        "print(confusion)"
      ],
      "execution_count": 44,
      "outputs": [
        {
          "output_type": "stream",
          "name": "stdout",
          "text": [
            "[[55007  1859]\n",
            " [   15    81]]\n"
          ]
        }
      ]
    },
    {
      "cell_type": "code",
      "metadata": {
        "id": "A21gnsyd052w"
      },
      "source": [
        "TP = confusion[1,1] # true positive \n",
        "TN = confusion[0,0] # true negatives\n",
        "FP = confusion[0,1] # false positives\n",
        "FN = confusion[1,0] # false negatives"
      ],
      "execution_count": 45,
      "outputs": []
    },
    {
      "cell_type": "code",
      "metadata": {
        "colab": {
          "base_uri": "https://localhost:8080/"
        },
        "id": "vf3Xq-rH073_",
        "outputId": "3a2c0301-831a-4cae-8559-a593b3a45ac5"
      },
      "source": [
        "# Accuracy\n",
        "print(\"Accuracy:-\",metrics.accuracy_score(y_test, y_test_pred))\n",
        "\n",
        "# Sensitivity\n",
        "print(\"Sensitivity:-\",TP / float(TP+FN))\n",
        "\n",
        "# Specificity\n",
        "print(\"Specificity:-\", TN / float(TN+FP))"
      ],
      "execution_count": 46,
      "outputs": [
        {
          "output_type": "stream",
          "name": "stdout",
          "text": [
            "Accuracy:- 0.9671008742670553\n",
            "Sensitivity:- 0.84375\n",
            "Specificity:- 0.9673091126507931\n"
          ]
        }
      ]
    },
    {
      "cell_type": "code",
      "metadata": {
        "colab": {
          "base_uri": "https://localhost:8080/"
        },
        "id": "ZHYIBOEH1D-N",
        "outputId": "c321cc80-99c7-4185-8ec7-a67c65a051af"
      },
      "source": [
        "# classification_report\n",
        "print(classification_report(y_test, y_test_pred))"
      ],
      "execution_count": 47,
      "outputs": [
        {
          "output_type": "stream",
          "name": "stdout",
          "text": [
            "              precision    recall  f1-score   support\n",
            "\n",
            "           0       1.00      0.97      0.98     56866\n",
            "           1       0.04      0.84      0.08        96\n",
            "\n",
            "    accuracy                           0.97     56962\n",
            "   macro avg       0.52      0.91      0.53     56962\n",
            "weighted avg       1.00      0.97      0.98     56962\n",
            "\n"
          ]
        }
      ]
    },
    {
      "cell_type": "code",
      "metadata": {
        "id": "X48q9UTN1He8"
      },
      "source": [
        "# Predicted probability\n",
        "y_test_pred_proba = logistic_bal_smote_model.predict_proba(X_test)[:,1]"
      ],
      "execution_count": 48,
      "outputs": []
    },
    {
      "cell_type": "code",
      "metadata": {
        "colab": {
          "base_uri": "https://localhost:8080/",
          "height": 350
        },
        "id": "sC82H8-g1JU9",
        "outputId": "3faceb50-50d4-4f7f-a004-e063c6091572"
      },
      "source": [
        "# Plot the ROC curve\n",
        "draw_roc(y_test, y_test_pred_proba)"
      ],
      "execution_count": 49,
      "outputs": [
        {
          "output_type": "display_data",
          "data": {
            "image/png": "[encoded data removed]",
            "text/plain": [
              "<Figure size 360x360 with 1 Axes>"
            ]
          },
          "metadata": {
            "needs_background": "light"
          }
        }
      ]
    }
  ]
}